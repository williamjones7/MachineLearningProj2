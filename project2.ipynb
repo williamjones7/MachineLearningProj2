{
 "cells": [
  {
   "attachments": {},
   "cell_type": "markdown",
   "metadata": {},
   "source": [
    "# Machine Learning in Python - Group Project 2\n",
    "\n",
    "**Due Friday, April 14th by 16.00 pm.**\n",
    "\n",
    "*William Jones, Tristan Pang, Aidan Garrity, Elliot\n",
    "Lei- $\\newline$ shman* \n",
    "\n",
    "(Group 15)"
   ]
  },
  {
   "attachments": {},
   "cell_type": "markdown",
   "metadata": {},
   "source": [
    "# Head of state's message: \n",
    "\n",
    "I think we have established that logistic regression is not great but we may want to include this analysis anyway. Also do we want to consider cross validation again ? \n",
    "\n",
    "<span style=\"color: red;\"> THE JOB BOARD: </span> \n",
    "\n",
    "    - Myself: Look into using Neural Nets, probably with heavy use of chat gpt, maybe Tensor Flow but I think its doable with pipelines\n",
    "    - Aidan: Continue the good work on decision trees chief\n",
    "    - Tristan: Work on support vector machines, if you're feeling brave \n",
    "    - Squire Boy: Look at stratifying the data, probably by hotel type and maybe month ? Also continue the good work on data exploration !\n",
    "\n",
    "Also, comment code, please\n",
    "\n",
    "# Supreme Leader of the Ministry of Theory's Message\n",
    "\n",
    "Classification task\n",
    "\n",
    "Obviously we want a model with a low FPR and FNR. But we care most about lowering FPR, since having a room double booked is worse then having a room booking cancelled. Double bookings could result in financial losses, bad reviews and lawsuits, I guess?\n",
    "\n",
    "4 most obvious classification strategies:\n",
    " - Logistic Regression\n",
    " - Support Vector Machines\n",
    " - Decision Trees\n",
    " - Neural Networks\n",
    "\n",
    "Do we want to stratify our test-train split for resort and city hotel?\n",
    "\n",
    "Ways to compare classification models:\n",
    " - Confusion Matrices\n",
    " - ROC curves & AUC\n",
    " - Accuracy\n",
    " - F1 score"
   ]
  },
  {
   "cell_type": "markdown",
   "metadata": {},
   "source": [
    "## General Setup"
   ]
  },
  {
   "cell_type": "code",
   "execution_count": 59,
   "metadata": {},
   "outputs": [],
   "source": [
    "# Add any additional libraries or submodules below\n",
    "\n",
    "# Display plots inline\n",
    "%matplotlib inline\n",
    "\n",
    "# Data libraries\n",
    "import pandas as pd\n",
    "import numpy as np\n",
    "\n",
    "# Plotting libraries\n",
    "import matplotlib.pyplot as plt\n",
    "import seaborn as sns\n",
    "import scipy.stats as stats\n",
    "\n",
    "# sklearn modules\n",
    "import sklearn\n",
    "from sklearn.preprocessing import StandardScaler\n",
    "from sklearn.pipeline import make_pipeline"
   ]
  },
  {
   "cell_type": "code",
   "execution_count": 60,
   "metadata": {},
   "outputs": [],
   "source": [
    "# Plotting defaults\n",
    "plt.rcParams['figure.figsize'] = (8,5)\n",
    "plt.rcParams['figure.dpi'] = 80"
   ]
  },
  {
   "cell_type": "code",
   "execution_count": 61,
   "metadata": {},
   "outputs": [],
   "source": [
    "# Load data\n",
    "d = pd.read_csv(\"hotel.csv\")"
   ]
  },
  {
   "cell_type": "code",
   "execution_count": 62,
   "metadata": {},
   "outputs": [],
   "source": [
    "def proportion_table(df, feat, index, show = True):\n",
    "    '''\n",
    "    Creates a proportion table for a feature in dataframe\n",
    "    '''\n",
    "\n",
    "    # Create proportion table of entire feature\n",
    "    prop_table = pd.DataFrame(df[feat].value_counts()).reset_index()\n",
    "    prop_table = prop_table.rename(columns= {feat:'Total', 'index':index})\n",
    "\n",
    "    for i in [0,1]: # Denotes if we are considering cancelation or not\n",
    "        print(i)\n",
    "        if i == 0:\n",
    "            cancel_status = 'Not_canceled'\n",
    "        else:\n",
    "            cancel_status = 'Canceled'\n",
    "        print(cancel_status)\n",
    "        df_canc = df[(df['is_canceled'] == i)]\n",
    "        df_canc = pd.DataFrame(df_canc[feat].value_counts()).reset_index()\n",
    "        df_canc = df_canc.rename(columns= {feat:cancel_status, 'index':index})\n",
    "        prop_table = prop_table.merge(df_canc, on = index)\n",
    "\n",
    "        # Calculate propoprtions\n",
    "        prop_table[f'% {cancel_status}'] = prop_table[cancel_status] / prop_table['Total'] * 100\n",
    "\n",
    "\n",
    "    # Round proportions to two decimal places\n",
    "    prop_table = prop_table.round(2)\n",
    "\n",
    "    # Display DataFrame or return it\n",
    "    if show:\n",
    "        display(prop_table)\n",
    "    else:\n",
    "        return(prop_table)"
   ]
  },
  {
   "cell_type": "markdown",
   "metadata": {},
   "source": [
    "## 1. Introduction\n",
    "\n",
    "*This section should include a brief introduction to the task and the data (assume this is a report you are delivering to a client).* \n",
    "\n",
    "- If you use any additional data sources, you should introduce them here and discuss why they were included.\n",
    "\n",
    "- Briefly outline the approaches being used and the conclusions that you are able to draw."
   ]
  },
  {
   "cell_type": "code",
   "execution_count": 63,
   "metadata": {},
   "outputs": [
    {
     "data": {
      "text/html": [
       "<div>\n",
       "<style scoped>\n",
       "    .dataframe tbody tr th:only-of-type {\n",
       "        vertical-align: middle;\n",
       "    }\n",
       "\n",
       "    .dataframe tbody tr th {\n",
       "        vertical-align: top;\n",
       "    }\n",
       "\n",
       "    .dataframe thead th {\n",
       "        text-align: right;\n",
       "    }\n",
       "</style>\n",
       "<table border=\"1\" class=\"dataframe\">\n",
       "  <thead>\n",
       "    <tr style=\"text-align: right;\">\n",
       "      <th></th>\n",
       "      <th>is_canceled</th>\n",
       "      <th>hotel</th>\n",
       "      <th>lead_time</th>\n",
       "      <th>arrival_date_year</th>\n",
       "      <th>arrival_date_month</th>\n",
       "      <th>arrival_date_week_number</th>\n",
       "      <th>arrival_date_day_of_month</th>\n",
       "      <th>stays_in_weekend_nights</th>\n",
       "      <th>stays_in_week_nights</th>\n",
       "      <th>adults</th>\n",
       "      <th>...</th>\n",
       "      <th>assigned_room_type</th>\n",
       "      <th>booking_changes</th>\n",
       "      <th>deposit_type</th>\n",
       "      <th>agent</th>\n",
       "      <th>company</th>\n",
       "      <th>days_in_waiting_list</th>\n",
       "      <th>customer_type</th>\n",
       "      <th>adr</th>\n",
       "      <th>required_car_parking_spaces</th>\n",
       "      <th>total_of_special_requests</th>\n",
       "    </tr>\n",
       "  </thead>\n",
       "  <tbody>\n",
       "    <tr>\n",
       "      <th>0</th>\n",
       "      <td>0</td>\n",
       "      <td>Resort Hotel</td>\n",
       "      <td>342</td>\n",
       "      <td>2015</td>\n",
       "      <td>July</td>\n",
       "      <td>27</td>\n",
       "      <td>1</td>\n",
       "      <td>0</td>\n",
       "      <td>0</td>\n",
       "      <td>2</td>\n",
       "      <td>...</td>\n",
       "      <td>C</td>\n",
       "      <td>3</td>\n",
       "      <td>No Deposit</td>\n",
       "      <td>NaN</td>\n",
       "      <td>NaN</td>\n",
       "      <td>0</td>\n",
       "      <td>Transient</td>\n",
       "      <td>0.00</td>\n",
       "      <td>0</td>\n",
       "      <td>0</td>\n",
       "    </tr>\n",
       "    <tr>\n",
       "      <th>1</th>\n",
       "      <td>0</td>\n",
       "      <td>Resort Hotel</td>\n",
       "      <td>737</td>\n",
       "      <td>2015</td>\n",
       "      <td>July</td>\n",
       "      <td>27</td>\n",
       "      <td>1</td>\n",
       "      <td>0</td>\n",
       "      <td>0</td>\n",
       "      <td>2</td>\n",
       "      <td>...</td>\n",
       "      <td>C</td>\n",
       "      <td>4</td>\n",
       "      <td>No Deposit</td>\n",
       "      <td>NaN</td>\n",
       "      <td>NaN</td>\n",
       "      <td>0</td>\n",
       "      <td>Transient</td>\n",
       "      <td>0.00</td>\n",
       "      <td>0</td>\n",
       "      <td>0</td>\n",
       "    </tr>\n",
       "    <tr>\n",
       "      <th>2</th>\n",
       "      <td>0</td>\n",
       "      <td>Resort Hotel</td>\n",
       "      <td>7</td>\n",
       "      <td>2015</td>\n",
       "      <td>July</td>\n",
       "      <td>27</td>\n",
       "      <td>1</td>\n",
       "      <td>0</td>\n",
       "      <td>1</td>\n",
       "      <td>1</td>\n",
       "      <td>...</td>\n",
       "      <td>C</td>\n",
       "      <td>0</td>\n",
       "      <td>No Deposit</td>\n",
       "      <td>NaN</td>\n",
       "      <td>NaN</td>\n",
       "      <td>0</td>\n",
       "      <td>Transient</td>\n",
       "      <td>75.00</td>\n",
       "      <td>0</td>\n",
       "      <td>0</td>\n",
       "    </tr>\n",
       "    <tr>\n",
       "      <th>3</th>\n",
       "      <td>0</td>\n",
       "      <td>Resort Hotel</td>\n",
       "      <td>13</td>\n",
       "      <td>2015</td>\n",
       "      <td>July</td>\n",
       "      <td>27</td>\n",
       "      <td>1</td>\n",
       "      <td>0</td>\n",
       "      <td>1</td>\n",
       "      <td>1</td>\n",
       "      <td>...</td>\n",
       "      <td>A</td>\n",
       "      <td>0</td>\n",
       "      <td>No Deposit</td>\n",
       "      <td>304.0</td>\n",
       "      <td>NaN</td>\n",
       "      <td>0</td>\n",
       "      <td>Transient</td>\n",
       "      <td>75.00</td>\n",
       "      <td>0</td>\n",
       "      <td>0</td>\n",
       "    </tr>\n",
       "    <tr>\n",
       "      <th>4</th>\n",
       "      <td>0</td>\n",
       "      <td>Resort Hotel</td>\n",
       "      <td>14</td>\n",
       "      <td>2015</td>\n",
       "      <td>July</td>\n",
       "      <td>27</td>\n",
       "      <td>1</td>\n",
       "      <td>0</td>\n",
       "      <td>2</td>\n",
       "      <td>2</td>\n",
       "      <td>...</td>\n",
       "      <td>A</td>\n",
       "      <td>0</td>\n",
       "      <td>No Deposit</td>\n",
       "      <td>240.0</td>\n",
       "      <td>NaN</td>\n",
       "      <td>0</td>\n",
       "      <td>Transient</td>\n",
       "      <td>98.00</td>\n",
       "      <td>0</td>\n",
       "      <td>1</td>\n",
       "    </tr>\n",
       "    <tr>\n",
       "      <th>...</th>\n",
       "      <td>...</td>\n",
       "      <td>...</td>\n",
       "      <td>...</td>\n",
       "      <td>...</td>\n",
       "      <td>...</td>\n",
       "      <td>...</td>\n",
       "      <td>...</td>\n",
       "      <td>...</td>\n",
       "      <td>...</td>\n",
       "      <td>...</td>\n",
       "      <td>...</td>\n",
       "      <td>...</td>\n",
       "      <td>...</td>\n",
       "      <td>...</td>\n",
       "      <td>...</td>\n",
       "      <td>...</td>\n",
       "      <td>...</td>\n",
       "      <td>...</td>\n",
       "      <td>...</td>\n",
       "      <td>...</td>\n",
       "      <td>...</td>\n",
       "    </tr>\n",
       "    <tr>\n",
       "      <th>119385</th>\n",
       "      <td>0</td>\n",
       "      <td>City Hotel</td>\n",
       "      <td>23</td>\n",
       "      <td>2017</td>\n",
       "      <td>August</td>\n",
       "      <td>35</td>\n",
       "      <td>30</td>\n",
       "      <td>2</td>\n",
       "      <td>5</td>\n",
       "      <td>2</td>\n",
       "      <td>...</td>\n",
       "      <td>A</td>\n",
       "      <td>0</td>\n",
       "      <td>No Deposit</td>\n",
       "      <td>394.0</td>\n",
       "      <td>NaN</td>\n",
       "      <td>0</td>\n",
       "      <td>Transient</td>\n",
       "      <td>96.14</td>\n",
       "      <td>0</td>\n",
       "      <td>0</td>\n",
       "    </tr>\n",
       "    <tr>\n",
       "      <th>119386</th>\n",
       "      <td>0</td>\n",
       "      <td>City Hotel</td>\n",
       "      <td>102</td>\n",
       "      <td>2017</td>\n",
       "      <td>August</td>\n",
       "      <td>35</td>\n",
       "      <td>31</td>\n",
       "      <td>2</td>\n",
       "      <td>5</td>\n",
       "      <td>3</td>\n",
       "      <td>...</td>\n",
       "      <td>E</td>\n",
       "      <td>0</td>\n",
       "      <td>No Deposit</td>\n",
       "      <td>9.0</td>\n",
       "      <td>NaN</td>\n",
       "      <td>0</td>\n",
       "      <td>Transient</td>\n",
       "      <td>225.43</td>\n",
       "      <td>0</td>\n",
       "      <td>2</td>\n",
       "    </tr>\n",
       "    <tr>\n",
       "      <th>119387</th>\n",
       "      <td>0</td>\n",
       "      <td>City Hotel</td>\n",
       "      <td>34</td>\n",
       "      <td>2017</td>\n",
       "      <td>August</td>\n",
       "      <td>35</td>\n",
       "      <td>31</td>\n",
       "      <td>2</td>\n",
       "      <td>5</td>\n",
       "      <td>2</td>\n",
       "      <td>...</td>\n",
       "      <td>D</td>\n",
       "      <td>0</td>\n",
       "      <td>No Deposit</td>\n",
       "      <td>9.0</td>\n",
       "      <td>NaN</td>\n",
       "      <td>0</td>\n",
       "      <td>Transient</td>\n",
       "      <td>157.71</td>\n",
       "      <td>0</td>\n",
       "      <td>4</td>\n",
       "    </tr>\n",
       "    <tr>\n",
       "      <th>119388</th>\n",
       "      <td>0</td>\n",
       "      <td>City Hotel</td>\n",
       "      <td>109</td>\n",
       "      <td>2017</td>\n",
       "      <td>August</td>\n",
       "      <td>35</td>\n",
       "      <td>31</td>\n",
       "      <td>2</td>\n",
       "      <td>5</td>\n",
       "      <td>2</td>\n",
       "      <td>...</td>\n",
       "      <td>A</td>\n",
       "      <td>0</td>\n",
       "      <td>No Deposit</td>\n",
       "      <td>89.0</td>\n",
       "      <td>NaN</td>\n",
       "      <td>0</td>\n",
       "      <td>Transient</td>\n",
       "      <td>104.40</td>\n",
       "      <td>0</td>\n",
       "      <td>0</td>\n",
       "    </tr>\n",
       "    <tr>\n",
       "      <th>119389</th>\n",
       "      <td>0</td>\n",
       "      <td>City Hotel</td>\n",
       "      <td>205</td>\n",
       "      <td>2017</td>\n",
       "      <td>August</td>\n",
       "      <td>35</td>\n",
       "      <td>29</td>\n",
       "      <td>2</td>\n",
       "      <td>7</td>\n",
       "      <td>2</td>\n",
       "      <td>...</td>\n",
       "      <td>A</td>\n",
       "      <td>0</td>\n",
       "      <td>No Deposit</td>\n",
       "      <td>9.0</td>\n",
       "      <td>NaN</td>\n",
       "      <td>0</td>\n",
       "      <td>Transient</td>\n",
       "      <td>151.20</td>\n",
       "      <td>0</td>\n",
       "      <td>2</td>\n",
       "    </tr>\n",
       "  </tbody>\n",
       "</table>\n",
       "<p>119390 rows × 30 columns</p>\n",
       "</div>"
      ],
      "text/plain": [
       "        is_canceled         hotel  lead_time  arrival_date_year  \\\n",
       "0                 0  Resort Hotel        342               2015   \n",
       "1                 0  Resort Hotel        737               2015   \n",
       "2                 0  Resort Hotel          7               2015   \n",
       "3                 0  Resort Hotel         13               2015   \n",
       "4                 0  Resort Hotel         14               2015   \n",
       "...             ...           ...        ...                ...   \n",
       "119385            0    City Hotel         23               2017   \n",
       "119386            0    City Hotel        102               2017   \n",
       "119387            0    City Hotel         34               2017   \n",
       "119388            0    City Hotel        109               2017   \n",
       "119389            0    City Hotel        205               2017   \n",
       "\n",
       "       arrival_date_month  arrival_date_week_number  \\\n",
       "0                    July                        27   \n",
       "1                    July                        27   \n",
       "2                    July                        27   \n",
       "3                    July                        27   \n",
       "4                    July                        27   \n",
       "...                   ...                       ...   \n",
       "119385             August                        35   \n",
       "119386             August                        35   \n",
       "119387             August                        35   \n",
       "119388             August                        35   \n",
       "119389             August                        35   \n",
       "\n",
       "        arrival_date_day_of_month  stays_in_weekend_nights  \\\n",
       "0                               1                        0   \n",
       "1                               1                        0   \n",
       "2                               1                        0   \n",
       "3                               1                        0   \n",
       "4                               1                        0   \n",
       "...                           ...                      ...   \n",
       "119385                         30                        2   \n",
       "119386                         31                        2   \n",
       "119387                         31                        2   \n",
       "119388                         31                        2   \n",
       "119389                         29                        2   \n",
       "\n",
       "        stays_in_week_nights  adults  ...  assigned_room_type  \\\n",
       "0                          0       2  ...                   C   \n",
       "1                          0       2  ...                   C   \n",
       "2                          1       1  ...                   C   \n",
       "3                          1       1  ...                   A   \n",
       "4                          2       2  ...                   A   \n",
       "...                      ...     ...  ...                 ...   \n",
       "119385                     5       2  ...                   A   \n",
       "119386                     5       3  ...                   E   \n",
       "119387                     5       2  ...                   D   \n",
       "119388                     5       2  ...                   A   \n",
       "119389                     7       2  ...                   A   \n",
       "\n",
       "        booking_changes deposit_type  agent company days_in_waiting_list  \\\n",
       "0                     3   No Deposit    NaN     NaN                    0   \n",
       "1                     4   No Deposit    NaN     NaN                    0   \n",
       "2                     0   No Deposit    NaN     NaN                    0   \n",
       "3                     0   No Deposit  304.0     NaN                    0   \n",
       "4                     0   No Deposit  240.0     NaN                    0   \n",
       "...                 ...          ...    ...     ...                  ...   \n",
       "119385                0   No Deposit  394.0     NaN                    0   \n",
       "119386                0   No Deposit    9.0     NaN                    0   \n",
       "119387                0   No Deposit    9.0     NaN                    0   \n",
       "119388                0   No Deposit   89.0     NaN                    0   \n",
       "119389                0   No Deposit    9.0     NaN                    0   \n",
       "\n",
       "        customer_type     adr  required_car_parking_spaces  \\\n",
       "0           Transient    0.00                            0   \n",
       "1           Transient    0.00                            0   \n",
       "2           Transient   75.00                            0   \n",
       "3           Transient   75.00                            0   \n",
       "4           Transient   98.00                            0   \n",
       "...               ...     ...                          ...   \n",
       "119385      Transient   96.14                            0   \n",
       "119386      Transient  225.43                            0   \n",
       "119387      Transient  157.71                            0   \n",
       "119388      Transient  104.40                            0   \n",
       "119389      Transient  151.20                            0   \n",
       "\n",
       "       total_of_special_requests  \n",
       "0                              0  \n",
       "1                              0  \n",
       "2                              0  \n",
       "3                              0  \n",
       "4                              1  \n",
       "...                          ...  \n",
       "119385                         0  \n",
       "119386                         2  \n",
       "119387                         4  \n",
       "119388                         0  \n",
       "119389                         2  \n",
       "\n",
       "[119390 rows x 30 columns]"
      ]
     },
     "metadata": {},
     "output_type": "display_data"
    }
   ],
   "source": [
    "display(d)"
   ]
  },
  {
   "attachments": {},
   "cell_type": "markdown",
   "metadata": {},
   "source": [
    "---\n",
    "## 2. Exploratory Data Analysis and Feature Engineering"
   ]
  },
  {
   "cell_type": "markdown",
   "metadata": {},
   "source": [
    "*Include a detailed discussion of the data with a particular emphasis on the features of the data that are relevant for the subsequent modeling.* \n",
    "\n",
    "- Including visualizations of the data is strongly encouraged - all code and plots must also be described in the write up. \n",
    "- Think carefully about whether each plot needs to be included in your final draft - your report should include figures but they should be as focused and impactful as possible.\n",
    "\n",
    "*Additionally, this section should also implement and describe any preprocessing / feature engineering of the data.*\n",
    "\n",
    "- Specifically, this should be any code that you use to generate new columns in the data frame `d`. All of this processing is explicitly meant to occur before we split the data in to training and testing subsets. \n",
    "- Processing that will be performed as part of an sklearn pipeline can be mentioned here but should be implemented in the following section.*\n",
    "\n",
    "**All code and figures should be accompanied by text that provides an overview / context to what is being done or presented.**"
   ]
  },
  {
   "attachments": {},
   "cell_type": "markdown",
   "metadata": {},
   "source": [
    "### 2.1 Data Cleaning \n",
    "In this section we will perform basic cleaning of the data. In paricular, we will:\n",
    "- Examine the structure, shape and type of data features\n",
    "- Deal with na values\n",
    "- Check for duplicate values\n",
    "- Encode categorical variables with numerical values\n",
    "\n",
    "\\newline\n",
    "We start by examining the "
   ]
  },
  {
   "cell_type": "code",
   "execution_count": 64,
   "metadata": {},
   "outputs": [
    {
     "name": "stdout",
     "output_type": "stream",
     "text": [
      "The dataframe is of size (119390, 30)\n",
      "is_canceled                         int64\n",
      "hotel                              object\n",
      "lead_time                           int64\n",
      "arrival_date_year                   int64\n",
      "arrival_date_month                 object\n",
      "arrival_date_week_number            int64\n",
      "arrival_date_day_of_month           int64\n",
      "stays_in_weekend_nights             int64\n",
      "stays_in_week_nights                int64\n",
      "adults                              int64\n",
      "children                          float64\n",
      "babies                              int64\n",
      "meal                               object\n",
      "country                            object\n",
      "market_segment                     object\n",
      "distribution_channel               object\n",
      "is_repeated_guest                   int64\n",
      "previous_cancellations              int64\n",
      "previous_bookings_not_canceled      int64\n",
      "reserved_room_type                 object\n",
      "assigned_room_type                 object\n",
      "booking_changes                     int64\n",
      "deposit_type                       object\n",
      "agent                             float64\n",
      "company                           float64\n",
      "days_in_waiting_list                int64\n",
      "customer_type                      object\n",
      "adr                               float64\n",
      "required_car_parking_spaces         int64\n",
      "total_of_special_requests           int64\n",
      "dtype: object\n"
     ]
    }
   ],
   "source": [
    "# Investigating shape and datatypes of dataframe\n",
    "print(f'The dataframe is of size {d.shape}')\n",
    "print(d.dtypes)"
   ]
  },
  {
   "attachments": {},
   "cell_type": "markdown",
   "metadata": {},
   "source": [
    "The first thing that we observe is that the dataframe has 30 features and 119390 observations, therefore, we will need to take into account the size of the dataframe when deciding on which model to use. This is because some models may be impractical with a large dataset such as this one.\n",
    "\n",
    "In regard to the features, 16 features are of datatype int, 4 are floats and 10 are object. The current datatypes are suitable for the features, for example are integer features are counting number of occurances of something and hence it makes sense to store these are integers. \n",
    "\n",
    "For the float features, we can convert the children feature into an integer because clearly one cannot have a non-whole number of children. For the feature adr we will rename it as 'avg_daily_rate' as this more clearly conveys what it means, we will keep this feature as a float because it corresponds to a price and therefore will need to store values after the decimal point. For the remaining two float feature, agent and company, we will encode them as binary integer features. This is because these two columns have number encoding the travel agent and company the hotel was booked thorugh and we do not have access to this encoding. Therefore, we would not be able to reccommend a specific agent or company to the clients. Thus, we will instead investigate whether booking through an agent or company affects cancelation as opposed to invesiting which agents or customers affect cancelations. We will perform these transfromations later once we have dealt with na values.\n",
    "\n",
    "Finally, for the object features, we will keep them as they are for now but we will need to encode them with numerical values before fitting our model.\n",
    "\n",
    "Our next task is search for na values and duplicate observations."
   ]
  },
  {
   "attachments": {},
   "cell_type": "markdown",
   "metadata": {},
   "source": [
    "Can delete\n",
    "\n",
    "Checking for missing values - Be more rigorous with this section in write-up\n",
    "\n",
    "\\newline\n",
    "Get rid of observations with no children/ adults and babies as well as observations with no weekend or weekday nights\n",
    "\\newline\n",
    "Previous booking not cancelled cannot happen if repeat customer = 0\n",
    "\n",
    "Total spend fetaure?"
   ]
  },
  {
   "cell_type": "code",
   "execution_count": 65,
   "metadata": {},
   "outputs": [
    {
     "name": "stdout",
     "output_type": "stream",
     "text": [
      "Features containing NaN values are:  ['children', 'country', 'agent', 'company']\n",
      "Column 'children' contains 4 NaN values, this constitutes 0.0% of values.\n",
      "Column 'country' contains 488 NaN values, this constitutes 0.41% of values.\n",
      "Column 'agent' contains 16340 NaN values, this constitutes 13.69% of values.\n",
      "Column 'company' contains 112593 NaN values, this constitutes 94.31% of values.\n"
     ]
    }
   ],
   "source": [
    "# get columns which have NaN values \n",
    "cols_with_nan = d.columns[d.isna().any()].tolist()\n",
    "print('Features containing NaN values are: ', cols_with_nan)\n",
    "\n",
    "# find out how many NaN values are in those columns\n",
    "for col in cols_with_nan:\n",
    "\n",
    "    # Count number of na values\n",
    "    no_nas = d[col].isna().sum()\n",
    "    # Calculate the percentage of total values which are nas\n",
    "    perc_vals_na = 100 * no_nas /119390\n",
    "    # Print \n",
    "    print(f\"Column '{col}' contains {no_nas} NaN values, this constitutes {np.round(perc_vals_na,2)}% of values.\")"
   ]
  },
  {
   "attachments": {},
   "cell_type": "markdown",
   "metadata": {},
   "source": [
    "From the code segment above we can see that the children and country features have 4 and 488 NaN values, because these observations represent such a small percentage (<0.5%) of our total observations we have decided to drop their entire observation from the dataframe. For the agent feature we have assumed these values correspond to zero i.e. no agent was used in the booking process. For the company feature we have decided to remove the entire feature from our dataset because it contains 94% NaN values.\n",
    "\n",
    "The code to implement these changes is below. At this time we also delete the duplicate values. We can do this wit hconfidence because it is very unlikely that two parties will have booked the exact same stay in the exact same hotel on the exact same day. We do however acknowledge that although unlikely, this is still possible, but we are assuming that the true duplicates make up a negligable proportion of the total duplicates."
   ]
  },
  {
   "cell_type": "code",
   "execution_count": 73,
   "metadata": {},
   "outputs": [],
   "source": [
    "# drop rows which have NaN values in 'children' columns. \n",
    "df = d.dropna(subset=['children', 'country'])\n",
    "\n",
    "df = df.drop('company', axis = 1)\n",
    "\n",
    "# fill the remaining NaN values to be zero\n",
    "df = df.fillna(0)\n",
    "\n",
    "# Delete duplicate rows. Note 32215 rows are duplicated rows to delete\n",
    "df.drop_duplicates(keep='first', inplace=True)"
   ]
  },
  {
   "cell_type": "code",
   "execution_count": 74,
   "metadata": {},
   "outputs": [
    {
     "name": "stdout",
     "output_type": "stream",
     "text": [
      "Features containing NaN values are:  []\n"
     ]
    }
   ],
   "source": [
    "# get columns which have NaN values \n",
    "cols_with_nan = df.columns[df.isna().any()].tolist()\n",
    "print('Features containing NaN values are: ', cols_with_nan)\n",
    "\n",
    "# find out how many NaN values are in those columns\n",
    "for col in cols_with_nan:\n",
    "\n",
    "    # Count number of na values\n",
    "    no_nas = df[col].isna().sum()\n",
    "    # Calculate the percentage of total values which are nas\n",
    "    perc_vals_na = 100 * no_nas /119390\n",
    "    # Print \n",
    "    print(f\"Column '{col}' contains {no_nas} NaN values, this constitutes {np.round(perc_vals_na,2)}% of values.\")"
   ]
  },
  {
   "attachments": {},
   "cell_type": "markdown",
   "metadata": {},
   "source": [
    "Now we have considered na values and duplicates we can now consider observations in our data set that do not make logical sense and imply an error in the data collection process for that observation. In particular we will look for the following three scenarios:\n",
    "- A room has been booked but the number of adults, children and babies staying is zero\n",
    "- A room was stayed in for zero weekday nights and zero weekend nights\n",
    "- A customer is marked as a repeat customer but has no previous stays or cancelations recorded"
   ]
  },
  {
   "cell_type": "code",
   "execution_count": 75,
   "metadata": {},
   "outputs": [
    {
     "name": "stdout",
     "output_type": "stream",
     "text": [
      "Number of observations with no people is 161\n",
      "Number of observations with no people is 642\n",
      "Number of observations with incorrect previous stays is 506\n",
      "Number of removed observations is 913\n"
     ]
    },
    {
     "name": "stderr",
     "output_type": "stream",
     "text": [
      "C:\\Users\\Will\\AppData\\Local\\Temp\\ipykernel_16772\\2758358480.py:16: UserWarning: Boolean Series key will be reindexed to match DataFrame index.\n",
      "  print(f'Number of removed observations is {df[no_people|no_nights|no_prev_stays].shape[0]}')\n"
     ]
    }
   ],
   "source": [
    "# No adults children or babies\n",
    "no_people = (df.children == 0) & (df.adults == 0) & (df.babies == 0)\n",
    "print(f'Number of observations with no people is {df[no_people].shape[0]}')\n",
    "\n",
    "# No weekend or weekday nights were spent at hotel\n",
    "no_nights = (df.stays_in_weekend_nights == 0) & (df.stays_in_week_nights == 0)\n",
    "print(f'Number of observations with no people is {df[no_nights].shape[0]}')\n",
    "\n",
    "# Repeat customer with no previous stays recorded\n",
    "no_prev_stays = (df.is_repeated_guest == 1) & (df.previous_cancellations == 0) & (df.previous_bookings_not_canceled == 0)\n",
    "print(f'Number of observations with incorrect previous stays is {df[no_prev_stays].shape[0]}')\n",
    "\n",
    "# Delete these anomolous observations from the dataframe\n",
    "df = df[~no_people|no_nights|no_prev_stays]\n",
    "\n",
    "print(f'Number of removed observations is {df[no_people|no_nights|no_prev_stays].shape[0]}')"
   ]
  },
  {
   "attachments": {},
   "cell_type": "markdown",
   "metadata": {},
   "source": [
    "We can see that we have remeoved 922 observations from the dataset because they did not make logical sense. The most common collection error was not recording anyone to stay in the rooms.\n",
    "\n",
    "Now that we have taken care of NaN values we can now implement the transfromation of the float features discussed earlier in the section. Noting that we have already removed the company feature."
   ]
  },
  {
   "cell_type": "code",
   "execution_count": 78,
   "metadata": {},
   "outputs": [],
   "source": [
    "# Convert children column to integer\n",
    "df['children'] = df['children'].astype('int64')\n",
    "\n",
    "# Rename the adr column\n",
    "df = df.rename(columns={\"adr\": \"avg_daily_rate\"})\n",
    "\n",
    "# Encode agent as binary 1 = yes, 0 = no\n",
    "agent_used = (df.agent != 0)\n",
    "df.loc[agent_used, 'agent'] = 1\n",
    "\n",
    "# Change datatype to integer\n",
    "df['agent'] = df['agent'].astype('int64')"
   ]
  },
  {
   "attachments": {},
   "cell_type": "markdown",
   "metadata": {},
   "source": [
    "Encode catergorical variables with numeric values"
   ]
  },
  {
   "cell_type": "code",
   "execution_count": 77,
   "metadata": {},
   "outputs": [],
   "source": [
    "from sklearn.preprocessing import LabelEncoder\n",
    "from collections import defaultdict\n",
    "\n",
    "le_dict = defaultdict(LabelEncoder)\n",
    "\n",
    "# apply label encoder to all columns\n",
    "encoded_df = df.apply(lambda x: le_dict[x.name].fit_transform(x))\n",
    "\n",
    "# inverse label encoder, for later use \n",
    "df = encoded_df.apply(lambda x: le_dict[x.name].inverse_transform(x))\n",
    "\n",
    "# https://stackoverflow.com/questions/24458645/label-encoding-across-multiple-columns-in-scikit-learn\n",
    "\n"
   ]
  },
  {
   "attachments": {},
   "cell_type": "markdown",
   "metadata": {},
   "source": [
    "#### Examine Response Variable\n",
    "In this section we will examine the response variable 'is_canceled', specifically we will examine the balance of the classes and the distribution of the classes as this will help inform our decision on model choice."
   ]
  },
  {
   "cell_type": "code",
   "execution_count": null,
   "metadata": {},
   "outputs": [
    {
     "data": {
      "image/png": "[encoded data removed]",
      "text/plain": [
       "<Figure size 400x400 with 1 Axes>"
      ]
     },
     "metadata": {},
     "output_type": "display_data"
    },
    {
     "name": "stdout",
     "output_type": "stream",
     "text": [
      "0    63270\n",
      "1    23752\n",
      "Name: is_canceled, dtype: int64\n"
     ]
    }
   ],
   "source": [
    "sns.catplot(data = df, x = 'is_canceled', kind  = 'count')\n",
    "plt.title('Countplot of is_canceled')\n",
    "plt.show()\n",
    "print(df['is_canceled'].value_counts()) # Is there a way to display count on the plot? Or just make it prettier"
   ]
  },
  {
   "attachments": {},
   "cell_type": "markdown",
   "metadata": {},
   "source": [
    "We can see in the above plot that the vast majority of bookings were not cancelled. The ratio of not cancelled to cancelled is approximately 3:1, therefore, the data response variable does not exhibit large class imbalance and hence we do not to be too careful when constructing our models. One thing we will do to increase the accuracy of the model is stratified sampling of the response variable when we conduct our test-train split. "
   ]
  },
  {
   "attachments": {},
   "cell_type": "markdown",
   "metadata": {},
   "source": [
    "#### Feature Investigation\n",
    "We will know examine indepth each feature of our dataset. First we will consider the continuous features and then the categorical features. For each we will suitably visualise the data, examine summary statistics and use our knowledge of the setting to establish possible outliers.\n",
    "\n",
    "The continuous features are, avg_daily_rate and lead_time"
   ]
  },
  {
   "cell_type": "code",
   "execution_count": null,
   "metadata": {},
   "outputs": [
    {
     "name": "stdout",
     "output_type": "stream",
     "text": [
      "count    87022.000000\n",
      "mean       106.473013\n",
      "std         54.973564\n",
      "min         -6.380000\n",
      "25%         72.200000\n",
      "50%         98.120000\n",
      "75%        134.100000\n",
      "max       5400.000000\n",
      "Name: avg_daily_rate, dtype: float64\n"
     ]
    }
   ],
   "source": [
    "# Print summary statistics for avg_daily_rate\n",
    "print(df['avg_daily_rate'].describe())"
   ]
  },
  {
   "attachments": {},
   "cell_type": "markdown",
   "metadata": {},
   "source": [
    "On review of the summary statistics we can see that the minimum value is negative, cleary this makes no sense as it implies the hotel is paying someone to stay there. To counter this we will remove all observations that have a negative avg_daily_rate. Another observation is that the max value is 5400, this seems extremey high considering it is around 98 standard deviations away from the main value. We will examine if this is indeed an outlier and if there are anymore in the boxplot below."
   ]
  },
  {
   "cell_type": "code",
   "execution_count": null,
   "metadata": {},
   "outputs": [
    {
     "name": "stdout",
     "output_type": "stream",
     "text": [
      "Number of observations with non-positive adr is 1706\n"
     ]
    },
    {
     "data": {
      "image/png": "[encoded data removed]",
      "text/plain": [
       "<Figure size 640x400 with 1 Axes>"
      ]
     },
     "metadata": {},
     "output_type": "display_data"
    },
    {
     "name": "stdout",
     "output_type": "stream",
     "text": [
      "Number of outliers 1\n"
     ]
    },
    {
     "data": {
      "image/png": "[encoded data removed]",
      "text/plain": [
       "<Figure size 640x400 with 1 Axes>"
      ]
     },
     "metadata": {},
     "output_type": "display_data"
    }
   ],
   "source": [
    "# Remove observations with negative average daily rate\n",
    "\n",
    "# What about zeros currently getting rid of them\n",
    "neg_adr = (df.avg_daily_rate <= 0)\n",
    "print(f'Number of observations with non-positive adr is {df[neg_adr].shape[0]}')\n",
    "df = df[~neg_adr]\n",
    "\n",
    "# Boxplot with outlier\n",
    "sns.boxplot(data = df, x = 'avg_daily_rate')\n",
    "plt.show()\n",
    "\n",
    "# Remove outlier\n",
    "outlier = (df.avg_daily_rate >1000)\n",
    "print(f'Number of outliers {df[outlier].shape[0]}')\n",
    "df = df[~outlier]\n",
    "\n",
    "# Density plot - common_norm = False, sets each curve to have density 1\n",
    "sns.kdeplot(data = df, x = 'avg_daily_rate', hue = 'is_canceled', common_norm = False)\n",
    "plt.title('Density plot of avg_daily_rate')\n",
    "plt.show()"
   ]
  },
  {
   "attachments": {},
   "cell_type": "markdown",
   "metadata": {},
   "source": [
    "Examining the boxplot we can clearly see that the value of 5400 was an outlier, we have therefore deicded to remove that observation from the dataset. Note, that we still have a still have some values close to zero, intuitively these are hard to explain in context, but they could be due to the customer recieving a  large discount, perhaps due to having a relationship with owners. If we look at the density plot we can see that these values very close to zero don't make up a large proportion of the observations so we will leave them in our dataset. The density plot also shows us that the distribution of daily average rate is roughly the same fro cancelled bookings and non-cancelled bookings, therefore, we wouldn't expect avg_daily_rate to have a large impact on cancellations."
   ]
  },
  {
   "cell_type": "code",
   "execution_count": null,
   "metadata": {},
   "outputs": [
    {
     "name": "stdout",
     "output_type": "stream",
     "text": [
      "count    85315.000000\n",
      "mean        80.557745\n",
      "std         85.825588\n",
      "min          0.000000\n",
      "25%         12.000000\n",
      "50%         50.000000\n",
      "75%        126.000000\n",
      "max        709.000000\n",
      "Name: lead_time, dtype: float64\n"
     ]
    },
    {
     "data": {
      "image/png": "[encoded data removed]",
      "text/plain": [
       "<Figure size 640x400 with 1 Axes>"
      ]
     },
     "metadata": {},
     "output_type": "display_data"
    },
    {
     "data": {
      "image/png": "[encoded data removed]",
      "text/plain": [
       "<Figure size 640x400 with 1 Axes>"
      ]
     },
     "metadata": {},
     "output_type": "display_data"
    }
   ],
   "source": [
    "# Now we do the same for lead_time\n",
    "# Print summary statistics for avg_daily_rate - can i also display for canceled/no_canceled?\n",
    "print(df['lead_time'].describe())\n",
    "\n",
    "# Boxplot \n",
    "sns.boxplot(data = df, x = 'lead_time')\n",
    "plt.show()\n",
    "\n",
    "# Density plot\n",
    "sns.kdeplot(data = df, x = 'lead_time', hue = 'is_canceled', common_norm= False )\n",
    "plt.title('Density plot of lead_time')\n",
    "plt.show()"
   ]
  },
  {
   "attachments": {},
   "cell_type": "markdown",
   "metadata": {},
   "source": [
    "In the summray statisics we can see that the minimum value in the lead_time feature is zero, this means the dataset contains no erroneous observations where it is implied that a hotel room was booked after the stay began. We can also see that the median is substancially smaller than the mean implying that the distribution is skewed to the left, we can confirm this by inspecting the density plot as well. The boxplot shows us that there are a large number of observations classed as outliers. We will not remove any of these outliers because there are consistent and although unlikely, in is perfectly possible for a customer to book a hotel room more than 500 days in advance if for example, they want to guarantee a specific room for a special occasion like a wedding. The final observation we will make is from the density plot, specifically, the difference in distribution. Therefore, we might expect lead_time to be an important feature in our classification.\n",
    "\n",
    "When considering categorical variables we will further split them up into three groups: date & time, personal information and booking information."
   ]
  },
  {
   "cell_type": "code",
   "execution_count": null,
   "metadata": {},
   "outputs": [
    {
     "data": {
      "text/html": [
       "<div>\n",
       "<style scoped>\n",
       "    .dataframe tbody tr th:only-of-type {\n",
       "        vertical-align: middle;\n",
       "    }\n",
       "\n",
       "    .dataframe tbody tr th {\n",
       "        vertical-align: top;\n",
       "    }\n",
       "\n",
       "    .dataframe thead th {\n",
       "        text-align: right;\n",
       "    }\n",
       "</style>\n",
       "<table border=\"1\" class=\"dataframe\">\n",
       "  <thead>\n",
       "    <tr style=\"text-align: right;\">\n",
       "      <th></th>\n",
       "      <th>arrival_date_year</th>\n",
       "      <th>arrival_date_week_number</th>\n",
       "      <th>arrival_date_day_of_month</th>\n",
       "      <th>stays_in_weekend_nights</th>\n",
       "      <th>stays_in_week_nights</th>\n",
       "    </tr>\n",
       "  </thead>\n",
       "  <tbody>\n",
       "    <tr>\n",
       "      <th>count</th>\n",
       "      <td>85315.00</td>\n",
       "      <td>85315.00</td>\n",
       "      <td>85315.00</td>\n",
       "      <td>85315.00</td>\n",
       "      <td>85315.00</td>\n",
       "    </tr>\n",
       "    <tr>\n",
       "      <th>mean</th>\n",
       "      <td>2016.22</td>\n",
       "      <td>26.80</td>\n",
       "      <td>15.82</td>\n",
       "      <td>1.02</td>\n",
       "      <td>2.65</td>\n",
       "    </tr>\n",
       "    <tr>\n",
       "      <th>std</th>\n",
       "      <td>0.68</td>\n",
       "      <td>13.64</td>\n",
       "      <td>8.84</td>\n",
       "      <td>1.03</td>\n",
       "      <td>2.03</td>\n",
       "    </tr>\n",
       "    <tr>\n",
       "      <th>min</th>\n",
       "      <td>2015.00</td>\n",
       "      <td>1.00</td>\n",
       "      <td>1.00</td>\n",
       "      <td>0.00</td>\n",
       "      <td>0.00</td>\n",
       "    </tr>\n",
       "    <tr>\n",
       "      <th>25%</th>\n",
       "      <td>2016.00</td>\n",
       "      <td>16.00</td>\n",
       "      <td>8.00</td>\n",
       "      <td>0.00</td>\n",
       "      <td>1.00</td>\n",
       "    </tr>\n",
       "    <tr>\n",
       "      <th>50%</th>\n",
       "      <td>2016.00</td>\n",
       "      <td>27.00</td>\n",
       "      <td>16.00</td>\n",
       "      <td>1.00</td>\n",
       "      <td>2.00</td>\n",
       "    </tr>\n",
       "    <tr>\n",
       "      <th>75%</th>\n",
       "      <td>2017.00</td>\n",
       "      <td>37.00</td>\n",
       "      <td>24.00</td>\n",
       "      <td>2.00</td>\n",
       "      <td>4.00</td>\n",
       "    </tr>\n",
       "    <tr>\n",
       "      <th>max</th>\n",
       "      <td>2017.00</td>\n",
       "      <td>53.00</td>\n",
       "      <td>31.00</td>\n",
       "      <td>19.00</td>\n",
       "      <td>50.00</td>\n",
       "    </tr>\n",
       "  </tbody>\n",
       "</table>\n",
       "</div>"
      ],
      "text/plain": [
       "       arrival_date_year  arrival_date_week_number  arrival_date_day_of_month  \\\n",
       "count           85315.00                  85315.00                   85315.00   \n",
       "mean             2016.22                     26.80                      15.82   \n",
       "std                 0.68                     13.64                       8.84   \n",
       "min              2015.00                      1.00                       1.00   \n",
       "25%              2016.00                     16.00                       8.00   \n",
       "50%              2016.00                     27.00                      16.00   \n",
       "75%              2017.00                     37.00                      24.00   \n",
       "max              2017.00                     53.00                      31.00   \n",
       "\n",
       "       stays_in_weekend_nights  stays_in_week_nights  \n",
       "count                 85315.00              85315.00  \n",
       "mean                      1.02                  2.65  \n",
       "std                       1.03                  2.03  \n",
       "min                       0.00                  0.00  \n",
       "25%                       0.00                  1.00  \n",
       "50%                       1.00                  2.00  \n",
       "75%                       2.00                  4.00  \n",
       "max                      19.00                 50.00  "
      ]
     },
     "metadata": {},
     "output_type": "display_data"
    },
    {
     "data": {
      "image/png": "[encoded data removed]",
      "text/plain": [
       "<Figure size 473.639x400 with 1 Axes>"
      ]
     },
     "metadata": {},
     "output_type": "display_data"
    },
    {
     "data": {
      "image/png": "[encoded data removed]",
      "text/plain": [
       "<Figure size 473.639x400 with 1 Axes>"
      ]
     },
     "metadata": {},
     "output_type": "display_data"
    },
    {
     "name": "stdout",
     "output_type": "stream",
     "text": [
      "0\n",
      "Not_canceled\n",
      "1\n",
      "Canceled\n"
     ]
    },
    {
     "data": {
      "text/html": [
       "<div>\n",
       "<style scoped>\n",
       "    .dataframe tbody tr th:only-of-type {\n",
       "        vertical-align: middle;\n",
       "    }\n",
       "\n",
       "    .dataframe tbody tr th {\n",
       "        vertical-align: top;\n",
       "    }\n",
       "\n",
       "    .dataframe thead th {\n",
       "        text-align: right;\n",
       "    }\n",
       "</style>\n",
       "<table border=\"1\" class=\"dataframe\">\n",
       "  <thead>\n",
       "    <tr style=\"text-align: right;\">\n",
       "      <th></th>\n",
       "      <th>Month</th>\n",
       "      <th>Total</th>\n",
       "      <th>Not_canceled</th>\n",
       "      <th>% Not_canceled</th>\n",
       "      <th>Canceled</th>\n",
       "      <th>% Canceled</th>\n",
       "    </tr>\n",
       "  </thead>\n",
       "  <tbody>\n",
       "    <tr>\n",
       "      <th>0</th>\n",
       "      <td>August</td>\n",
       "      <td>11075</td>\n",
       "      <td>7485</td>\n",
       "      <td>67.58</td>\n",
       "      <td>3590</td>\n",
       "      <td>32.42</td>\n",
       "    </tr>\n",
       "    <tr>\n",
       "      <th>1</th>\n",
       "      <td>July</td>\n",
       "      <td>9878</td>\n",
       "      <td>6715</td>\n",
       "      <td>67.98</td>\n",
       "      <td>3163</td>\n",
       "      <td>32.02</td>\n",
       "    </tr>\n",
       "    <tr>\n",
       "      <th>2</th>\n",
       "      <td>May</td>\n",
       "      <td>8170</td>\n",
       "      <td>5780</td>\n",
       "      <td>70.75</td>\n",
       "      <td>2390</td>\n",
       "      <td>29.25</td>\n",
       "    </tr>\n",
       "    <tr>\n",
       "      <th>3</th>\n",
       "      <td>April</td>\n",
       "      <td>7756</td>\n",
       "      <td>5391</td>\n",
       "      <td>69.51</td>\n",
       "      <td>2365</td>\n",
       "      <td>30.49</td>\n",
       "    </tr>\n",
       "    <tr>\n",
       "      <th>4</th>\n",
       "      <td>June</td>\n",
       "      <td>7629</td>\n",
       "      <td>5306</td>\n",
       "      <td>69.55</td>\n",
       "      <td>2323</td>\n",
       "      <td>30.45</td>\n",
       "    </tr>\n",
       "    <tr>\n",
       "      <th>5</th>\n",
       "      <td>March</td>\n",
       "      <td>7349</td>\n",
       "      <td>5547</td>\n",
       "      <td>75.48</td>\n",
       "      <td>1802</td>\n",
       "      <td>24.52</td>\n",
       "    </tr>\n",
       "    <tr>\n",
       "      <th>6</th>\n",
       "      <td>October</td>\n",
       "      <td>6705</td>\n",
       "      <td>5118</td>\n",
       "      <td>76.33</td>\n",
       "      <td>1587</td>\n",
       "      <td>23.67</td>\n",
       "    </tr>\n",
       "    <tr>\n",
       "      <th>7</th>\n",
       "      <td>September</td>\n",
       "      <td>6505</td>\n",
       "      <td>4919</td>\n",
       "      <td>75.62</td>\n",
       "      <td>1586</td>\n",
       "      <td>24.38</td>\n",
       "    </tr>\n",
       "    <tr>\n",
       "      <th>8</th>\n",
       "      <td>February</td>\n",
       "      <td>5940</td>\n",
       "      <td>4559</td>\n",
       "      <td>76.75</td>\n",
       "      <td>1381</td>\n",
       "      <td>23.25</td>\n",
       "    </tr>\n",
       "    <tr>\n",
       "      <th>9</th>\n",
       "      <td>December</td>\n",
       "      <td>4923</td>\n",
       "      <td>3573</td>\n",
       "      <td>72.58</td>\n",
       "      <td>1350</td>\n",
       "      <td>27.42</td>\n",
       "    </tr>\n",
       "    <tr>\n",
       "      <th>10</th>\n",
       "      <td>November</td>\n",
       "      <td>4826</td>\n",
       "      <td>3800</td>\n",
       "      <td>78.74</td>\n",
       "      <td>1026</td>\n",
       "      <td>21.26</td>\n",
       "    </tr>\n",
       "    <tr>\n",
       "      <th>11</th>\n",
       "      <td>January</td>\n",
       "      <td>4559</td>\n",
       "      <td>3546</td>\n",
       "      <td>77.78</td>\n",
       "      <td>1013</td>\n",
       "      <td>22.22</td>\n",
       "    </tr>\n",
       "  </tbody>\n",
       "</table>\n",
       "</div>"
      ],
      "text/plain": [
       "        Month  Total  Not_canceled  % Not_canceled  Canceled  % Canceled\n",
       "0      August  11075          7485           67.58      3590       32.42\n",
       "1        July   9878          6715           67.98      3163       32.02\n",
       "2         May   8170          5780           70.75      2390       29.25\n",
       "3       April   7756          5391           69.51      2365       30.49\n",
       "4        June   7629          5306           69.55      2323       30.45\n",
       "5       March   7349          5547           75.48      1802       24.52\n",
       "6     October   6705          5118           76.33      1587       23.67\n",
       "7   September   6505          4919           75.62      1586       24.38\n",
       "8    February   5940          4559           76.75      1381       23.25\n",
       "9    December   4923          3573           72.58      1350       27.42\n",
       "10   November   4826          3800           78.74      1026       21.26\n",
       "11    January   4559          3546           77.78      1013       22.22"
      ]
     },
     "metadata": {},
     "output_type": "display_data"
    }
   ],
   "source": [
    "# Date & time information: arrival_date_year, arrival_date_month, arrival_date_week_number, \n",
    "# arrival_date_day_of_month, stays_in_weekend_nights and stays_in_week_nights.\n",
    "\n",
    "# Create a list of features we wil consider here\n",
    "datetime_features = ['arrival_date_year', 'arrival_date_month', 'arrival_date_week_number', 'arrival_date_day_of_month', 'stays_in_weekend_nights', 'stays_in_week_nights']\n",
    "\n",
    "# Print summary statistics\n",
    "display(df[datetime_features].describe().round(2))\n",
    "\n",
    "sns.catplot(data = df, x = 'arrival_date_year', kind = 'count', hue = 'is_canceled')\n",
    "plt.show()\n",
    "\n",
    "sns.catplot(data = df, x = 'arrival_date_month', kind = 'count', hue = 'is_canceled')\n",
    "plt.xticks(rotation = 'vertical')\n",
    "plt.show()\n",
    "\n",
    "proportion_table(df, 'arrival_date_month', 'Month')"
   ]
  },
  {
   "cell_type": "code",
   "execution_count": null,
   "metadata": {},
   "outputs": [],
   "source": [
    "\n",
    "    "
   ]
  },
  {
   "attachments": {},
   "cell_type": "markdown",
   "metadata": {},
   "source": [
    "There are no obvious issues which arise from the summary statistics for the date & time features. Issues we are looking for include years outside the range, week numbers greater than 53 and less than 1, days of the month outside the 1-31 range and a negative number of weekend or weekday nights. There is also no indication of outliers in the data."
   ]
  },
  {
   "cell_type": "code",
   "execution_count": null,
   "metadata": {},
   "outputs": [],
   "source": [
    "# # Can't figure out how to make this proportion table\n",
    "# prop_table = pd.DataFrame(df['arrival_date_month'].value_counts()).reset_index()\n",
    "# prop_table = prop_table.rename(columns= {'arrival_date_month':'Total', 'index':'Month'})\n",
    "\n",
    "# # Cancelled dataframe\n",
    "# df_canc = df[(df['is_canceled']==1)]\n",
    "# df_canc = pd.DataFrame(df_canc['arrival_date_month'].value_counts()).reset_index()\n",
    "# df_canc = df_canc.rename(columns= {'arrival_date_month':'Canceled', 'index':'Month'})\n",
    "# prop_table = prop_table.merge(df_canc, on = 'Month')\n",
    "\n",
    "# # Calculate propoprtions\n",
    "# prop_table['% Canceled'] = prop_table['Canceled'] / prop_table['Total'] * 100\n",
    "# prop_table = prop_table.round(2)\n",
    "# #display(prop_table)\n",
    "\n",
    "\n",
    "\n",
    "\n",
    "\n",
    "\n"
   ]
  },
  {
   "cell_type": "code",
   "execution_count": null,
   "metadata": {},
   "outputs": [],
   "source": [
    "# Personal information\n",
    "personal_features = ['adults', 'children','babies']"
   ]
  },
  {
   "attachments": {},
   "cell_type": "markdown",
   "metadata": {},
   "source": [
    "#### Correlation\n",
    "In this section we will examine any correlation between features as well as identifying the features with the largest correlation to the response variable.\n",
    "cross tabulation?"
   ]
  },
  {
   "cell_type": "code",
   "execution_count": null,
   "metadata": {},
   "outputs": [
    {
     "name": "stderr",
     "output_type": "stream",
     "text": [
      "C:\\Users\\Will\\AppData\\Local\\Temp\\ipykernel_16772\\284675504.py:2: FutureWarning: The default value of numeric_only in DataFrame.corr is deprecated. In a future version, it will default to False. Select only valid columns or specify the value of numeric_only to silence this warning.\n",
      "  corr = df.corr()\n"
     ]
    },
    {
     "data": {
      "image/png": "[encoded data removed]",
      "text/plain": [
       "<Figure size 640x400 with 2 Axes>"
      ]
     },
     "metadata": {},
     "output_type": "display_data"
    }
   ],
   "source": [
    "# Correlation heatmap\n",
    "corr = df.corr()\n",
    "plt.figure()\n",
    "sns.heatmap(corr)\n",
    "plt.show()"
   ]
  },
  {
   "cell_type": "code",
   "execution_count": null,
   "metadata": {},
   "outputs": [
    {
     "ename": "NameError",
     "evalue": "name 'encoded_df' is not defined",
     "output_type": "error",
     "traceback": [
      "\u001b[1;31m---------------------------------------------------------------------------\u001b[0m",
      "\u001b[1;31mNameError\u001b[0m                                 Traceback (most recent call last)",
      "\u001b[1;32mc:\\Users\\Will\\Documents\\Uni\\Machine Learning\\Project 2\\MachineLearningProj2\\project2.ipynb Cell 42\u001b[0m in \u001b[0;36m3\n\u001b[0;32m      <a href='vscode-notebook-cell:/c%3A/Users/Will/Documents/Uni/Machine%20Learning/Project%202/MachineLearningProj2/project2.ipynb#Y142sZmlsZQ%3D%3D?line=0'>1</a>\u001b[0m \u001b[39m# Can I remove 'is.canceled' from plot?\u001b[39;00m\n\u001b[0;32m      <a href='vscode-notebook-cell:/c%3A/Users/Will/Documents/Uni/Machine%20Learning/Project%202/MachineLearningProj2/project2.ipynb#Y142sZmlsZQ%3D%3D?line=1'>2</a>\u001b[0m fig, ax \u001b[39m=\u001b[39m plt\u001b[39m.\u001b[39msubplots(figsize\u001b[39m=\u001b[39m(\u001b[39m9\u001b[39m,\u001b[39m5\u001b[39m))\n\u001b[1;32m----> <a href='vscode-notebook-cell:/c%3A/Users/Will/Documents/Uni/Machine%20Learning/Project%202/MachineLearningProj2/project2.ipynb#Y142sZmlsZQ%3D%3D?line=2'>3</a>\u001b[0m encoded_df\u001b[39m.\u001b[39mcorr()[\u001b[39m\"\u001b[39m\u001b[39mis_canceled\u001b[39m\u001b[39m\"\u001b[39m]\u001b[39m.\u001b[39msort_values(ascending\u001b[39m=\u001b[39m\u001b[39mFalse\u001b[39;00m)\u001b[39m.\u001b[39mplot(kind\u001b[39m=\u001b[39m\u001b[39m\"\u001b[39m\u001b[39mbar\u001b[39m\u001b[39m\"\u001b[39m, ax\u001b[39m=\u001b[39max)\n\u001b[0;32m      <a href='vscode-notebook-cell:/c%3A/Users/Will/Documents/Uni/Machine%20Learning/Project%202/MachineLearningProj2/project2.ipynb#Y142sZmlsZQ%3D%3D?line=3'>4</a>\u001b[0m plt\u001b[39m.\u001b[39mshow()\n",
      "\u001b[1;31mNameError\u001b[0m: name 'encoded_df' is not defined"
     ]
    },
    {
     "data": {
      "image/png": "[encoded data removed]",
      "text/plain": [
       "<Figure size 720x400 with 1 Axes>"
      ]
     },
     "metadata": {},
     "output_type": "display_data"
    }
   ],
   "source": [
    "# Can I remove 'is.canceled' from plot?\n",
    "fig, ax = plt.subplots(figsize=(9,5))\n",
    "encoded_df.corr()[\"is_canceled\"].sort_values(ascending=False).plot(kind=\"bar\", ax=ax)\n",
    "plt.show()"
   ]
  },
  {
   "cell_type": "code",
   "execution_count": null,
   "metadata": {},
   "outputs": [],
   "source": [
    "# Diagnostic Plots - commented out to save space - Not happy with this section yet\n",
    "def diagnostic_plots(df, variable): \n",
    "    plt.figure(figsize=(15,6)) \n",
    "    plt.subplot(1, 2, 1) \n",
    "    df[variable].hist(bins=30)\n",
    "    plt.title(\"Histogram\")\n",
    "    plt.subplot(1, 2, 2)\n",
    "    stats.probplot(df[variable], dist=\"norm\", plot=plt) \n",
    "    plt.suptitle(\"Diagnostic Plots for {}\".format(variable))\n",
    "    plt.show()\n",
    "\n",
    "for variable_name in encoded_df.columns:\n",
    "    pass\n",
    "    #diagnostic_plots(encoded_df, variable_name)"
   ]
  },
  {
   "attachments": {},
   "cell_type": "markdown",
   "metadata": {},
   "source": [
    "#### Feature Visualisation\n",
    "- Density plots for numerical features\n",
    "- Boxplots for categorical features\n",
    "- Look for outliers in the data etc."
   ]
  },
  {
   "cell_type": "code",
   "execution_count": null,
   "metadata": {},
   "outputs": [
    {
     "data": {
      "application/vnd.plotly.v1+json": {
       "config": {
        "plotlyServerURL": "https://plot.ly"
       },
       "data": [
        {
         "coloraxis": "coloraxis",
         "geo": "geo",
         "hovertemplate": "<b>%{hovertext}</b><br><br>Country=%{location}<br>No of guests=%{z}<extra></extra>",
         "hovertext": [
          "PRT",
          "GBR",
          "FRA",
          "ESP",
          "DEU",
          "IRL",
          "ITA",
          "BEL",
          "NLD",
          "USA",
          "BRA",
          "CHE",
          "CN",
          "AUT",
          "SWE",
          "POL",
          "CHN",
          0,
          "NOR",
          "FIN",
          "ROU",
          "RUS",
          "DNK",
          "AUS",
          "ISR",
          "JPN",
          "LUX",
          "ARG",
          "AGO",
          "HUN",
          "MAR",
          "TUR",
          "IND",
          "CZE",
          "GRC",
          "KOR",
          "HRV",
          "LTU",
          "MEX",
          "DZA",
          "EST",
          "NZL",
          "BGR",
          "IRN",
          "SRB",
          "CHL",
          "ZAF",
          "COL",
          "LVA",
          "UKR",
          "SVK",
          "MOZ",
          "CYP",
          "SVN",
          "TWN",
          "THA",
          "LBN",
          "MYS",
          "URY",
          "SGP",
          "EGY",
          "ISL",
          "PER",
          "ECU",
          "TUN",
          "CRI",
          "JOR",
          "BLR",
          "SAU",
          "KAZ",
          "OMN",
          "NGA",
          "VEN",
          "PHL",
          "MLT",
          "IRQ",
          "CPV",
          "IDN",
          "PRI",
          "KWT",
          "CMR",
          "ALB",
          "BIH",
          "PAN",
          "LBY",
          "CUB",
          "AZE",
          "GNB",
          "MKD",
          "ARE",
          "JAM",
          "VNM",
          "DOM",
          "ARM",
          "LKA",
          "MUS",
          "CAF",
          "PAK",
          "SUR",
          "GEO",
          "PRY",
          "KEN",
          "CIV",
          "GIB",
          "MDV",
          "BGD",
          "SEN",
          "MCO",
          "GTM",
          "SYR",
          "MNE",
          "QAT",
          "ATA",
          "MWI",
          "BOL",
          "GAB",
          "BRB",
          "GHA",
          "TMP",
          "ZWE",
          "ABW",
          "LIE",
          "SLV",
          "RWA",
          "ETH",
          "LAO",
          "STP",
          "COM",
          "UGA",
          "AND",
          "HKG",
          "TGO",
          "UZB",
          "KNA",
          "GUY",
          "SLE",
          "PYF",
          "TJK",
          "SDN",
          "LCA",
          "ATF",
          "KIR",
          "NCL",
          "ASM",
          "MRT",
          "DMA",
          "MLI",
          "AIA",
          "MMR",
          "PLW",
          "MDG",
          "NPL",
          "BHS",
          "BDI",
          "MAC",
          "DJI",
          "BFA",
          "BWA",
          "ZMB",
          "CYM",
          "SMR",
          "TZA",
          "BHR",
          "NAM",
          "SYC",
          "FRO"
         ],
         "locations": [
          "PRT",
          "GBR",
          "FRA",
          "ESP",
          "DEU",
          "IRL",
          "ITA",
          "BEL",
          "NLD",
          "USA",
          "BRA",
          "CHE",
          "CN",
          "AUT",
          "SWE",
          "POL",
          "CHN",
          0,
          "NOR",
          "FIN",
          "ROU",
          "RUS",
          "DNK",
          "AUS",
          "ISR",
          "JPN",
          "LUX",
          "ARG",
          "AGO",
          "HUN",
          "MAR",
          "TUR",
          "IND",
          "CZE",
          "GRC",
          "KOR",
          "HRV",
          "LTU",
          "MEX",
          "DZA",
          "EST",
          "NZL",
          "BGR",
          "IRN",
          "SRB",
          "CHL",
          "ZAF",
          "COL",
          "LVA",
          "UKR",
          "SVK",
          "MOZ",
          "CYP",
          "SVN",
          "TWN",
          "THA",
          "LBN",
          "MYS",
          "URY",
          "SGP",
          "EGY",
          "ISL",
          "PER",
          "ECU",
          "TUN",
          "CRI",
          "JOR",
          "BLR",
          "SAU",
          "KAZ",
          "OMN",
          "NGA",
          "VEN",
          "PHL",
          "MLT",
          "IRQ",
          "CPV",
          "IDN",
          "PRI",
          "KWT",
          "CMR",
          "ALB",
          "BIH",
          "PAN",
          "LBY",
          "CUB",
          "AZE",
          "GNB",
          "MKD",
          "ARE",
          "JAM",
          "VNM",
          "DOM",
          "ARM",
          "LKA",
          "MUS",
          "CAF",
          "PAK",
          "SUR",
          "GEO",
          "PRY",
          "KEN",
          "CIV",
          "GIB",
          "MDV",
          "BGD",
          "SEN",
          "MCO",
          "GTM",
          "SYR",
          "MNE",
          "QAT",
          "ATA",
          "MWI",
          "BOL",
          "GAB",
          "BRB",
          "GHA",
          "TMP",
          "ZWE",
          "ABW",
          "LIE",
          "SLV",
          "RWA",
          "ETH",
          "LAO",
          "STP",
          "COM",
          "UGA",
          "AND",
          "HKG",
          "TGO",
          "UZB",
          "KNA",
          "GUY",
          "SLE",
          "PYF",
          "TJK",
          "SDN",
          "LCA",
          "ATF",
          "KIR",
          "NCL",
          "ASM",
          "MRT",
          "DMA",
          "MLI",
          "AIA",
          "MMR",
          "PLW",
          "MDG",
          "NPL",
          "BHS",
          "BDI",
          "MAC",
          "DJI",
          "BFA",
          "BWA",
          "ZMB",
          "CYM",
          "SMR",
          "TZA",
          "BHR",
          "NAM",
          "SYC",
          "FRO"
         ],
         "name": "",
         "type": "choropleth",
         "z": [
          16395,
          8376,
          7054,
          5320,
          4313,
          2342,
          1975,
          1665,
          1556,
          1405,
          1255,
          1177,
          864,
          771,
          652,
          594,
          420,
          407,
          369,
          356,
          340,
          331,
          292,
          286,
          267,
          158,
          157,
          152,
          142,
          135,
          125,
          116,
          108,
          102,
          84,
          76,
          68,
          66,
          64,
          61,
          61,
          59,
          59,
          57,
          50,
          49,
          49,
          46,
          43,
          41,
          38,
          38,
          35,
          33,
          30,
          24,
          22,
          21,
          21,
          21,
          21,
          21,
          20,
          18,
          18,
          17,
          16,
          16,
          15,
          14,
          14,
          13,
          13,
          13,
          12,
          11,
          11,
          11,
          10,
          10,
          9,
          9,
          9,
          8,
          8,
          8,
          8,
          8,
          7,
          6,
          6,
          6,
          6,
          6,
          6,
          6,
          5,
          5,
          5,
          5,
          4,
          4,
          4,
          4,
          3,
          3,
          3,
          3,
          3,
          3,
          3,
          3,
          2,
          2,
          2,
          2,
          2,
          2,
          2,
          2,
          2,
          2,
          2,
          2,
          2,
          2,
          2,
          2,
          2,
          2,
          2,
          2,
          2,
          2,
          1,
          1,
          1,
          1,
          1,
          1,
          1,
          1,
          1,
          1,
          1,
          1,
          1,
          1,
          1,
          1,
          1,
          1,
          1,
          1,
          1,
          1,
          1,
          1,
          1,
          1,
          1,
          1,
          1,
          1,
          1,
          1
         ]
        }
       ],
       "layout": {
        "coloraxis": {
         "colorbar": {
          "title": {
           "text": "No of guests"
          }
         },
         "colorscale": [
          [
           0,
           "#0d0887"
          ],
          [
           0.1111111111111111,
           "#46039f"
          ],
          [
           0.2222222222222222,
           "#7201a8"
          ],
          [
           0.3333333333333333,
           "#9c179e"
          ],
          [
           0.4444444444444444,
           "#bd3786"
          ],
          [
           0.5555555555555556,
           "#d8576b"
          ],
          [
           0.6666666666666666,
           "#ed7953"
          ],
          [
           0.7777777777777778,
           "#fb9f3a"
          ],
          [
           0.8888888888888888,
           "#fdca26"
          ],
          [
           1,
           "#f0f921"
          ]
         ]
        },
        "geo": {
         "center": {},
         "domain": {
          "x": [
           0,
           1
          ],
          "y": [
           0,
           1
          ]
         }
        },
        "legend": {
         "tracegroupgap": 0
        },
        "margin": {
         "t": 60
        },
        "template": {
         "data": {
          "bar": [
           {
            "error_x": {
             "color": "#2a3f5f"
            },
            "error_y": {
             "color": "#2a3f5f"
            },
            "marker": {
             "line": {
              "color": "#E5ECF6",
              "width": 0.5
             },
             "pattern": {
              "fillmode": "overlay",
              "size": 10,
              "solidity": 0.2
             }
            },
            "type": "bar"
           }
          ],
          "barpolar": [
           {
            "marker": {
             "line": {
              "color": "#E5ECF6",
              "width": 0.5
             },
             "pattern": {
              "fillmode": "overlay",
              "size": 10,
              "solidity": 0.2
             }
            },
            "type": "barpolar"
           }
          ],
          "carpet": [
           {
            "aaxis": {
             "endlinecolor": "#2a3f5f",
             "gridcolor": "white",
             "linecolor": "white",
             "minorgridcolor": "white",
             "startlinecolor": "#2a3f5f"
            },
            "baxis": {
             "endlinecolor": "#2a3f5f",
             "gridcolor": "white",
             "linecolor": "white",
             "minorgridcolor": "white",
             "startlinecolor": "#2a3f5f"
            },
            "type": "carpet"
           }
          ],
          "choropleth": [
           {
            "colorbar": {
             "outlinewidth": 0,
             "ticks": ""
            },
            "type": "choropleth"
           }
          ],
          "contour": [
           {
            "colorbar": {
             "outlinewidth": 0,
             "ticks": ""
            },
            "colorscale": [
             [
              0,
              "#0d0887"
             ],
             [
              0.1111111111111111,
              "#46039f"
             ],
             [
              0.2222222222222222,
              "#7201a8"
             ],
             [
              0.3333333333333333,
              "#9c179e"
             ],
             [
              0.4444444444444444,
              "#bd3786"
             ],
             [
              0.5555555555555556,
              "#d8576b"
             ],
             [
              0.6666666666666666,
              "#ed7953"
             ],
             [
              0.7777777777777778,
              "#fb9f3a"
             ],
             [
              0.8888888888888888,
              "#fdca26"
             ],
             [
              1,
              "#f0f921"
             ]
            ],
            "type": "contour"
           }
          ],
          "contourcarpet": [
           {
            "colorbar": {
             "outlinewidth": 0,
             "ticks": ""
            },
            "type": "contourcarpet"
           }
          ],
          "heatmap": [
           {
            "colorbar": {
             "outlinewidth": 0,
             "ticks": ""
            },
            "colorscale": [
             [
              0,
              "#0d0887"
             ],
             [
              0.1111111111111111,
              "#46039f"
             ],
             [
              0.2222222222222222,
              "#7201a8"
             ],
             [
              0.3333333333333333,
              "#9c179e"
             ],
             [
              0.4444444444444444,
              "#bd3786"
             ],
             [
              0.5555555555555556,
              "#d8576b"
             ],
             [
              0.6666666666666666,
              "#ed7953"
             ],
             [
              0.7777777777777778,
              "#fb9f3a"
             ],
             [
              0.8888888888888888,
              "#fdca26"
             ],
             [
              1,
              "#f0f921"
             ]
            ],
            "type": "heatmap"
           }
          ],
          "heatmapgl": [
           {
            "colorbar": {
             "outlinewidth": 0,
             "ticks": ""
            },
            "colorscale": [
             [
              0,
              "#0d0887"
             ],
             [
              0.1111111111111111,
              "#46039f"
             ],
             [
              0.2222222222222222,
              "#7201a8"
             ],
             [
              0.3333333333333333,
              "#9c179e"
             ],
             [
              0.4444444444444444,
              "#bd3786"
             ],
             [
              0.5555555555555556,
              "#d8576b"
             ],
             [
              0.6666666666666666,
              "#ed7953"
             ],
             [
              0.7777777777777778,
              "#fb9f3a"
             ],
             [
              0.8888888888888888,
              "#fdca26"
             ],
             [
              1,
              "#f0f921"
             ]
            ],
            "type": "heatmapgl"
           }
          ],
          "histogram": [
           {
            "marker": {
             "pattern": {
              "fillmode": "overlay",
              "size": 10,
              "solidity": 0.2
             }
            },
            "type": "histogram"
           }
          ],
          "histogram2d": [
           {
            "colorbar": {
             "outlinewidth": 0,
             "ticks": ""
            },
            "colorscale": [
             [
              0,
              "#0d0887"
             ],
             [
              0.1111111111111111,
              "#46039f"
             ],
             [
              0.2222222222222222,
              "#7201a8"
             ],
             [
              0.3333333333333333,
              "#9c179e"
             ],
             [
              0.4444444444444444,
              "#bd3786"
             ],
             [
              0.5555555555555556,
              "#d8576b"
             ],
             [
              0.6666666666666666,
              "#ed7953"
             ],
             [
              0.7777777777777778,
              "#fb9f3a"
             ],
             [
              0.8888888888888888,
              "#fdca26"
             ],
             [
              1,
              "#f0f921"
             ]
            ],
            "type": "histogram2d"
           }
          ],
          "histogram2dcontour": [
           {
            "colorbar": {
             "outlinewidth": 0,
             "ticks": ""
            },
            "colorscale": [
             [
              0,
              "#0d0887"
             ],
             [
              0.1111111111111111,
              "#46039f"
             ],
             [
              0.2222222222222222,
              "#7201a8"
             ],
             [
              0.3333333333333333,
              "#9c179e"
             ],
             [
              0.4444444444444444,
              "#bd3786"
             ],
             [
              0.5555555555555556,
              "#d8576b"
             ],
             [
              0.6666666666666666,
              "#ed7953"
             ],
             [
              0.7777777777777778,
              "#fb9f3a"
             ],
             [
              0.8888888888888888,
              "#fdca26"
             ],
             [
              1,
              "#f0f921"
             ]
            ],
            "type": "histogram2dcontour"
           }
          ],
          "mesh3d": [
           {
            "colorbar": {
             "outlinewidth": 0,
             "ticks": ""
            },
            "type": "mesh3d"
           }
          ],
          "parcoords": [
           {
            "line": {
             "colorbar": {
              "outlinewidth": 0,
              "ticks": ""
             }
            },
            "type": "parcoords"
           }
          ],
          "pie": [
           {
            "automargin": true,
            "type": "pie"
           }
          ],
          "scatter": [
           {
            "marker": {
             "colorbar": {
              "outlinewidth": 0,
              "ticks": ""
             }
            },
            "type": "scatter"
           }
          ],
          "scatter3d": [
           {
            "line": {
             "colorbar": {
              "outlinewidth": 0,
              "ticks": ""
             }
            },
            "marker": {
             "colorbar": {
              "outlinewidth": 0,
              "ticks": ""
             }
            },
            "type": "scatter3d"
           }
          ],
          "scattercarpet": [
           {
            "marker": {
             "colorbar": {
              "outlinewidth": 0,
              "ticks": ""
             }
            },
            "type": "scattercarpet"
           }
          ],
          "scattergeo": [
           {
            "marker": {
             "colorbar": {
              "outlinewidth": 0,
              "ticks": ""
             }
            },
            "type": "scattergeo"
           }
          ],
          "scattergl": [
           {
            "marker": {
             "colorbar": {
              "outlinewidth": 0,
              "ticks": ""
             }
            },
            "type": "scattergl"
           }
          ],
          "scattermapbox": [
           {
            "marker": {
             "colorbar": {
              "outlinewidth": 0,
              "ticks": ""
             }
            },
            "type": "scattermapbox"
           }
          ],
          "scatterpolar": [
           {
            "marker": {
             "colorbar": {
              "outlinewidth": 0,
              "ticks": ""
             }
            },
            "type": "scatterpolar"
           }
          ],
          "scatterpolargl": [
           {
            "marker": {
             "colorbar": {
              "outlinewidth": 0,
              "ticks": ""
             }
            },
            "type": "scatterpolargl"
           }
          ],
          "scatterternary": [
           {
            "marker": {
             "colorbar": {
              "outlinewidth": 0,
              "ticks": ""
             }
            },
            "type": "scatterternary"
           }
          ],
          "surface": [
           {
            "colorbar": {
             "outlinewidth": 0,
             "ticks": ""
            },
            "colorscale": [
             [
              0,
              "#0d0887"
             ],
             [
              0.1111111111111111,
              "#46039f"
             ],
             [
              0.2222222222222222,
              "#7201a8"
             ],
             [
              0.3333333333333333,
              "#9c179e"
             ],
             [
              0.4444444444444444,
              "#bd3786"
             ],
             [
              0.5555555555555556,
              "#d8576b"
             ],
             [
              0.6666666666666666,
              "#ed7953"
             ],
             [
              0.7777777777777778,
              "#fb9f3a"
             ],
             [
              0.8888888888888888,
              "#fdca26"
             ],
             [
              1,
              "#f0f921"
             ]
            ],
            "type": "surface"
           }
          ],
          "table": [
           {
            "cells": {
             "fill": {
              "color": "#EBF0F8"
             },
             "line": {
              "color": "white"
             }
            },
            "header": {
             "fill": {
              "color": "#C8D4E3"
             },
             "line": {
              "color": "white"
             }
            },
            "type": "table"
           }
          ]
         },
         "layout": {
          "annotationdefaults": {
           "arrowcolor": "#2a3f5f",
           "arrowhead": 0,
           "arrowwidth": 1
          },
          "autotypenumbers": "strict",
          "coloraxis": {
           "colorbar": {
            "outlinewidth": 0,
            "ticks": ""
           }
          },
          "colorscale": {
           "diverging": [
            [
             0,
             "#8e0152"
            ],
            [
             0.1,
             "#c51b7d"
            ],
            [
             0.2,
             "#de77ae"
            ],
            [
             0.3,
             "#f1b6da"
            ],
            [
             0.4,
             "#fde0ef"
            ],
            [
             0.5,
             "#f7f7f7"
            ],
            [
             0.6,
             "#e6f5d0"
            ],
            [
             0.7,
             "#b8e186"
            ],
            [
             0.8,
             "#7fbc41"
            ],
            [
             0.9,
             "#4d9221"
            ],
            [
             1,
             "#276419"
            ]
           ],
           "sequential": [
            [
             0,
             "#0d0887"
            ],
            [
             0.1111111111111111,
             "#46039f"
            ],
            [
             0.2222222222222222,
             "#7201a8"
            ],
            [
             0.3333333333333333,
             "#9c179e"
            ],
            [
             0.4444444444444444,
             "#bd3786"
            ],
            [
             0.5555555555555556,
             "#d8576b"
            ],
            [
             0.6666666666666666,
             "#ed7953"
            ],
            [
             0.7777777777777778,
             "#fb9f3a"
            ],
            [
             0.8888888888888888,
             "#fdca26"
            ],
            [
             1,
             "#f0f921"
            ]
           ],
           "sequentialminus": [
            [
             0,
             "#0d0887"
            ],
            [
             0.1111111111111111,
             "#46039f"
            ],
            [
             0.2222222222222222,
             "#7201a8"
            ],
            [
             0.3333333333333333,
             "#9c179e"
            ],
            [
             0.4444444444444444,
             "#bd3786"
            ],
            [
             0.5555555555555556,
             "#d8576b"
            ],
            [
             0.6666666666666666,
             "#ed7953"
            ],
            [
             0.7777777777777778,
             "#fb9f3a"
            ],
            [
             0.8888888888888888,
             "#fdca26"
            ],
            [
             1,
             "#f0f921"
            ]
           ]
          },
          "colorway": [
           "#636efa",
           "#EF553B",
           "#00cc96",
           "#ab63fa",
           "#FFA15A",
           "#19d3f3",
           "#FF6692",
           "#B6E880",
           "#FF97FF",
           "#FECB52"
          ],
          "font": {
           "color": "#2a3f5f"
          },
          "geo": {
           "bgcolor": "white",
           "lakecolor": "white",
           "landcolor": "#E5ECF6",
           "showlakes": true,
           "showland": true,
           "subunitcolor": "white"
          },
          "hoverlabel": {
           "align": "left"
          },
          "hovermode": "closest",
          "mapbox": {
           "style": "light"
          },
          "paper_bgcolor": "white",
          "plot_bgcolor": "#E5ECF6",
          "polar": {
           "angularaxis": {
            "gridcolor": "white",
            "linecolor": "white",
            "ticks": ""
           },
           "bgcolor": "#E5ECF6",
           "radialaxis": {
            "gridcolor": "white",
            "linecolor": "white",
            "ticks": ""
           }
          },
          "scene": {
           "xaxis": {
            "backgroundcolor": "#E5ECF6",
            "gridcolor": "white",
            "gridwidth": 2,
            "linecolor": "white",
            "showbackground": true,
            "ticks": "",
            "zerolinecolor": "white"
           },
           "yaxis": {
            "backgroundcolor": "#E5ECF6",
            "gridcolor": "white",
            "gridwidth": 2,
            "linecolor": "white",
            "showbackground": true,
            "ticks": "",
            "zerolinecolor": "white"
           },
           "zaxis": {
            "backgroundcolor": "#E5ECF6",
            "gridcolor": "white",
            "gridwidth": 2,
            "linecolor": "white",
            "showbackground": true,
            "ticks": "",
            "zerolinecolor": "white"
           }
          },
          "shapedefaults": {
           "line": {
            "color": "#2a3f5f"
           }
          },
          "ternary": {
           "aaxis": {
            "gridcolor": "white",
            "linecolor": "white",
            "ticks": ""
           },
           "baxis": {
            "gridcolor": "white",
            "linecolor": "white",
            "ticks": ""
           },
           "bgcolor": "#E5ECF6",
           "caxis": {
            "gridcolor": "white",
            "linecolor": "white",
            "ticks": ""
           }
          },
          "title": {
           "x": 0.05
          },
          "xaxis": {
           "automargin": true,
           "gridcolor": "white",
           "linecolor": "white",
           "ticks": "",
           "title": {
            "standoff": 15
           },
           "zerolinecolor": "white",
           "zerolinewidth": 2
          },
          "yaxis": {
           "automargin": true,
           "gridcolor": "white",
           "linecolor": "white",
           "ticks": "",
           "title": {
            "standoff": 15
           },
           "zerolinecolor": "white",
           "zerolinewidth": 2
          }
         }
        }
       }
      }
     },
     "metadata": {},
     "output_type": "display_data"
    }
   ],
   "source": [
    "# Inspired by someone else\n",
    "import folium\n",
    "from folium.plugins import HeatMap\n",
    "import plotly.express as px\n",
    "\n",
    "guest_city = df[df['is_canceled'] == 0]['country'].value_counts().reset_index()\n",
    "guest_city.columns = ['Country', 'No of guests']\n",
    "guest_city\n",
    "\n",
    "basemap = folium.Map()\n",
    "guests_map = px.choropleth(guest_city, locations = guest_city['Country'],\n",
    "                           color = guest_city['No of guests'], hover_name = guest_city['Country'])\n",
    "guests_map.show()"
   ]
  },
  {
   "cell_type": "code",
   "execution_count": null,
   "metadata": {},
   "outputs": [
    {
     "ename": "TypeError",
     "evalue": "The x variable is categorical, but one of ['numeric', 'datetime'] is required",
     "output_type": "error",
     "traceback": [
      "\u001b[1;31m---------------------------------------------------------------------------\u001b[0m",
      "\u001b[1;31mTypeError\u001b[0m                                 Traceback (most recent call last)",
      "\u001b[1;32mc:\\Users\\ellio\\Documents\\Masters\\ML\\MachineLearningProj2\\project2.ipynb Cell 27\u001b[0m in \u001b[0;36m<cell line: 7>\u001b[1;34m()\u001b[0m\n\u001b[0;32m      <a href='vscode-notebook-cell:/c%3A/Users/ellio/Documents/Masters/ML/MachineLearningProj2/project2.ipynb#Y152sZmlsZQ%3D%3D?line=6'>7</a>\u001b[0m \u001b[39mfor\u001b[39;00m col \u001b[39min\u001b[39;00m xdf\u001b[39m.\u001b[39mcolumns:\n\u001b[0;32m      <a href='vscode-notebook-cell:/c%3A/Users/ellio/Documents/Masters/ML/MachineLearningProj2/project2.ipynb#Y152sZmlsZQ%3D%3D?line=7'>8</a>\u001b[0m     \u001b[39mif\u001b[39;00m \u001b[39mtype\u001b[39m(col) \u001b[39m!=\u001b[39m \u001b[39m'\u001b[39m\u001b[39mobject\u001b[39m\u001b[39m'\u001b[39m:\n\u001b[1;32m----> <a href='vscode-notebook-cell:/c%3A/Users/ellio/Documents/Masters/ML/MachineLearningProj2/project2.ipynb#Y152sZmlsZQ%3D%3D?line=8'>9</a>\u001b[0m         sns\u001b[39m.\u001b[39;49mkdeplot(data \u001b[39m=\u001b[39;49m df, x \u001b[39m=\u001b[39;49m col, hue \u001b[39m=\u001b[39;49m \u001b[39m'\u001b[39;49m\u001b[39mis_canceled\u001b[39;49m\u001b[39m'\u001b[39;49m, fill \u001b[39m=\u001b[39;49m \u001b[39m'\u001b[39;49m\u001b[39mtrue\u001b[39;49m\u001b[39m'\u001b[39;49m)\n\u001b[0;32m     <a href='vscode-notebook-cell:/c%3A/Users/ellio/Documents/Masters/ML/MachineLearningProj2/project2.ipynb#Y152sZmlsZQ%3D%3D?line=9'>10</a>\u001b[0m         plt\u001b[39m.\u001b[39mtitle(col)\n\u001b[0;32m     <a href='vscode-notebook-cell:/c%3A/Users/ellio/Documents/Masters/ML/MachineLearningProj2/project2.ipynb#Y152sZmlsZQ%3D%3D?line=10'>11</a>\u001b[0m         plt\u001b[39m.\u001b[39mshow()\n",
      "File \u001b[1;32mc:\\Users\\ellio\\anaconda3\\lib\\site-packages\\seaborn\\_decorators.py:46\u001b[0m, in \u001b[0;36m_deprecate_positional_args.<locals>.inner_f\u001b[1;34m(*args, **kwargs)\u001b[0m\n\u001b[0;32m     36\u001b[0m     warnings\u001b[39m.\u001b[39mwarn(\n\u001b[0;32m     37\u001b[0m         \u001b[39m\"\u001b[39m\u001b[39mPass the following variable\u001b[39m\u001b[39m{}\u001b[39;00m\u001b[39m as \u001b[39m\u001b[39m{}\u001b[39;00m\u001b[39mkeyword arg\u001b[39m\u001b[39m{}\u001b[39;00m\u001b[39m: \u001b[39m\u001b[39m{}\u001b[39;00m\u001b[39m. \u001b[39m\u001b[39m\"\u001b[39m\n\u001b[0;32m     38\u001b[0m         \u001b[39m\"\u001b[39m\u001b[39mFrom version 0.12, the only valid positional argument \u001b[39m\u001b[39m\"\u001b[39m\n\u001b[1;32m   (...)\u001b[0m\n\u001b[0;32m     43\u001b[0m         \u001b[39mFutureWarning\u001b[39;00m\n\u001b[0;32m     44\u001b[0m     )\n\u001b[0;32m     45\u001b[0m kwargs\u001b[39m.\u001b[39mupdate({k: arg \u001b[39mfor\u001b[39;00m k, arg \u001b[39min\u001b[39;00m \u001b[39mzip\u001b[39m(sig\u001b[39m.\u001b[39mparameters, args)})\n\u001b[1;32m---> 46\u001b[0m \u001b[39mreturn\u001b[39;00m f(\u001b[39m*\u001b[39m\u001b[39m*\u001b[39mkwargs)\n",
      "File \u001b[1;32mc:\\Users\\ellio\\anaconda3\\lib\\site-packages\\seaborn\\distributions.py:1762\u001b[0m, in \u001b[0;36mkdeplot\u001b[1;34m(x, y, shade, vertical, kernel, bw, gridsize, cut, clip, legend, cumulative, shade_lowest, cbar, cbar_ax, cbar_kws, ax, weights, hue, palette, hue_order, hue_norm, multiple, common_norm, common_grid, levels, thresh, bw_method, bw_adjust, log_scale, color, fill, data, data2, warn_singular, **kwargs)\u001b[0m\n\u001b[0;32m   1752\u001b[0m \u001b[39m# Pack the kwargs for statistics.KDE\u001b[39;00m\n\u001b[0;32m   1753\u001b[0m estimate_kws \u001b[39m=\u001b[39m \u001b[39mdict\u001b[39m(\n\u001b[0;32m   1754\u001b[0m     bw_method\u001b[39m=\u001b[39mbw_method,\n\u001b[0;32m   1755\u001b[0m     bw_adjust\u001b[39m=\u001b[39mbw_adjust,\n\u001b[1;32m   (...)\u001b[0m\n\u001b[0;32m   1759\u001b[0m     cumulative\u001b[39m=\u001b[39mcumulative,\n\u001b[0;32m   1760\u001b[0m )\n\u001b[1;32m-> 1762\u001b[0m p\u001b[39m.\u001b[39;49m_attach(ax, allowed_types\u001b[39m=\u001b[39;49m[\u001b[39m\"\u001b[39;49m\u001b[39mnumeric\u001b[39;49m\u001b[39m\"\u001b[39;49m, \u001b[39m\"\u001b[39;49m\u001b[39mdatetime\u001b[39;49m\u001b[39m\"\u001b[39;49m], log_scale\u001b[39m=\u001b[39;49mlog_scale)\n\u001b[0;32m   1764\u001b[0m \u001b[39mif\u001b[39;00m p\u001b[39m.\u001b[39munivariate:\n\u001b[0;32m   1766\u001b[0m     plot_kws \u001b[39m=\u001b[39m kwargs\u001b[39m.\u001b[39mcopy()\n",
      "File \u001b[1;32mc:\\Users\\ellio\\anaconda3\\lib\\site-packages\\seaborn\\_core.py:1125\u001b[0m, in \u001b[0;36mVectorPlotter._attach\u001b[1;34m(self, obj, allowed_types, log_scale)\u001b[0m\n\u001b[0;32m   1120\u001b[0m \u001b[39mif\u001b[39;00m var_type \u001b[39mnot\u001b[39;00m \u001b[39min\u001b[39;00m allowed_types:\n\u001b[0;32m   1121\u001b[0m     err \u001b[39m=\u001b[39m (\n\u001b[0;32m   1122\u001b[0m         \u001b[39mf\u001b[39m\u001b[39m\"\u001b[39m\u001b[39mThe \u001b[39m\u001b[39m{\u001b[39;00mvar\u001b[39m}\u001b[39;00m\u001b[39m variable is \u001b[39m\u001b[39m{\u001b[39;00mvar_type\u001b[39m}\u001b[39;00m\u001b[39m, but one of \u001b[39m\u001b[39m\"\u001b[39m\n\u001b[0;32m   1123\u001b[0m         \u001b[39mf\u001b[39m\u001b[39m\"\u001b[39m\u001b[39m{\u001b[39;00mallowed_types\u001b[39m}\u001b[39;00m\u001b[39m is required\u001b[39m\u001b[39m\"\u001b[39m\n\u001b[0;32m   1124\u001b[0m     )\n\u001b[1;32m-> 1125\u001b[0m     \u001b[39mraise\u001b[39;00m \u001b[39mTypeError\u001b[39;00m(err)\n\u001b[0;32m   1127\u001b[0m \u001b[39m# Register with the matplotlib unit conversion machinery\u001b[39;00m\n\u001b[0;32m   1128\u001b[0m \u001b[39m# Perhaps cleaner to manage our own transform objects?\u001b[39;00m\n\u001b[0;32m   1129\u001b[0m \u001b[39m# XXX Currently this does not allow \"unshared\" categorical axes\u001b[39;00m\n\u001b[0;32m   1130\u001b[0m \u001b[39m# We could add metadata to a FacetGrid and set units based on that.\u001b[39;00m\n\u001b[0;32m   1131\u001b[0m \u001b[39m# See also comment in comp_data, which only uses a single axes to do\u001b[39;00m\n\u001b[0;32m   1132\u001b[0m \u001b[39m# its mapping, meaning that it won't handle unshared axes well either.\u001b[39;00m\n\u001b[0;32m   1133\u001b[0m \u001b[39mfor\u001b[39;00m ax \u001b[39min\u001b[39;00m ax_list:\n",
      "\u001b[1;31mTypeError\u001b[0m: The x variable is categorical, but one of ['numeric', 'datetime'] is required"
     ]
    },
    {
     "data": {
      "image/png": "[encoded data removed]",
      "text/plain": [
       "<Figure size 640x400 with 1 Axes>"
      ]
     },
     "metadata": {
      "needs_background": "light"
     },
     "output_type": "display_data"
    }
   ],
   "source": [
    "# Drop response variable from dataframe\n",
    "# Response dataframe only includes the response variables.\n",
    "xdf = df.drop('is_canceled', axis = 1)\n",
    "\n",
    "\n",
    "\n",
    "for col in xdf.columns:\n",
    "    if type(col) != 'object':\n",
    "        sns.kdeplot(data = df, x = col, hue = 'is_canceled', fill = 'true')\n",
    "        plt.title(col)\n",
    "        plt.show()"
   ]
  },
  {
   "cell_type": "code",
   "execution_count": null,
   "metadata": {},
   "outputs": [
    {
     "data": {
      "image/png": "[encoded data removed]",
      "text/plain": [
       "<Figure size 640x400 with 1 Axes>"
      ]
     },
     "metadata": {
      "needs_background": "light"
     },
     "output_type": "display_data"
    }
   ],
   "source": [
    "plt.figure()\n",
    "sns.histplot(data = df, x = 'hotel')#, hue = 'is_canceled')\n",
    "plt.show()\n",
    "\n",
    "plt.figure()\n",
    "sns.histplot(data = df, x = 'arrival_date_month', hue = 'is_canceled')\n",
    "plt.xticks(rotation = 45)\n",
    "plt.show()\n",
    "\n"
   ]
  },
  {
   "cell_type": "code",
   "execution_count": null,
   "metadata": {},
   "outputs": [],
   "source": []
  },
  {
   "cell_type": "markdown",
   "metadata": {},
   "source": [
    "### Dimensionality Reduction (PCA)"
   ]
  },
  {
   "cell_type": "code",
   "execution_count": null,
   "metadata": {},
   "outputs": [
    {
     "name": "stdout",
     "output_type": "stream",
     "text": [
      "Number of components required to explain 80% of the data variability: 17\n"
     ]
    }
   ],
   "source": [
    "from sklearn.decomposition import PCA\n",
    "from sklearn.preprocessing import StandardScaler\n",
    "\n",
    "# Response dataframe only includes the response variables.\n",
    "response_df = encoded_df.drop('is_canceled', axis = 1)\n",
    "\n",
    "# Standardize the data\n",
    "scaler = StandardScaler()\n",
    "response_df_std = scaler.fit_transform(response_df)\n",
    "\n",
    "# Fit a PCA model to the data \n",
    "pca = PCA()\n",
    "pca.fit(response_df_std)\n",
    "\n",
    "# Features required to explain 80% of variance.\n",
    "cumulative_variance_ratio = np.cumsum(pca.explained_variance_ratio_)\n",
    "\n",
    "# Find the number of components required to explain 80% of the data variability\n",
    "n_components = np.argmax(cumulative_variance_ratio >= 0.8) + 1\n",
    "\n",
    "print(\"Number of components required to explain 80% of the data variability:\", n_components)"
   ]
  },
  {
   "cell_type": "code",
   "execution_count": null,
   "metadata": {},
   "outputs": [
    {
     "data": {
      "image/png": "[encoded data removed]",
      "text/plain": [
       "<Figure size 640x400 with 1 Axes>"
      ]
     },
     "metadata": {
      "needs_background": "light"
     },
     "output_type": "display_data"
    }
   ],
   "source": [
    "# Plot the scree plot\n",
    "plt.bar(np.arange(1, pca.n_components_ + 1), pca.explained_variance_ratio_)\n",
    "plt.xlabel('Principal Component')\n",
    "plt.ylabel('Proportion of Variance Explained')\n",
    "plt.title('Scree Plot')\n",
    "plt.show()"
   ]
  },
  {
   "attachments": {},
   "cell_type": "markdown",
   "metadata": {},
   "source": [
    "---\n",
    "## 3. Model Fitting and Tuning"
   ]
  },
  {
   "cell_type": "markdown",
   "metadata": {},
   "source": [
    "*In this section you should detail your choice of model and describe the process used to refine and fit that model.*\n",
    "\n",
    "- You are strongly encouraged to explore many different modeling methods (e.g. logistic regression, classification trees, SVC, etc.) but you should not include a detailed narrative of all of these attempts. \n",
    "- At most this section should mention the methods explored and why they were rejected - most of your effort should go into describing the model you are using and your process for tuning and validatin it.\n",
    "\n",
    "*For example if you considered a logistic regression model, a classification tree, and a SVC model and ultimately settled on the logistic regression approach then you should mention that other two approaches were tried but do not include any of the code or any in depth discussion of these models beyond why they were rejected. This section should then detail is the development of the logistic regression model in terms of features used, interactions considered, and any additional tuning and validation which ultimately led to your final model.* \n",
    "\n",
    "**This section should also include the full implementation of your final model, including all necessary validation. As with figures, any included code must also be addressed in the text of the document.**"
   ]
  },
  {
   "cell_type": "code",
   "execution_count": null,
   "metadata": {},
   "outputs": [],
   "source": [
    "# Model Evaluation Function\n",
    "\n",
    "from sklearn.metrics import accuracy_score, precision_score, recall_score, f1_score\n",
    "\n",
    "def eval(y_true, y_pred, confusion=True, AUC = True, ROCplot=True, precision=True, f1 = True, recall = True, accuracy=True):\n",
    "    if accuracy: \n",
    "        print(\"Accuracy:\", accuracy_score(y_true, y_pred))\n",
    "    if precision: \n",
    "        print(\"Precision:\", precision_score(y_true, y_pred))\n",
    "    if recall: \n",
    "        print(\"Recall:\", recall_score(y_true, y_pred))\n",
    "    if f1: \n",
    "        print(\"F1 Score:\", f1_score(y_true, y_pred))\n",
    "    if confusion:\n",
    "        print('Confusion Matrix: \\n', sklearn.metrics.confusion_matrix(y_true, y_pred))\n",
    "    if AUC:\n",
    "        print('AUC: ', sklearn.metrics.roc_auc_score(y_true, y_pred))\n",
    "    if ROCplot:\n",
    "        fpr, tpr, thresholds = sklearn.metrics.roc_curve(y_true, y_pred)\n",
    "        # calculate AUC score\n",
    "        roc_auc = sklearn.metrics.auc(fpr, tpr)\n",
    "\n",
    "        # plot ROC curve\n",
    "        plt.plot(fpr, tpr, label='ROC curve (AUC = %0.2f)' % roc_auc)\n",
    "        plt.plot([0, 1], [0, 1], 'k--')\n",
    "        plt.xlim([0.0, 1.0])\n",
    "        plt.ylim([0.0, 1.05])\n",
    "        plt.xlabel('False Positive Rate')\n",
    "        plt.ylabel('True Positive Rate')\n",
    "        plt.title('Receiver Operating Characteristic')\n",
    "        plt.legend(loc=\"lower right\")\n",
    "        plt.show()\n"
   ]
  },
  {
   "cell_type": "markdown",
   "metadata": {},
   "source": [
    "#### Data Formatting"
   ]
  },
  {
   "cell_type": "code",
   "execution_count": null,
   "metadata": {},
   "outputs": [
    {
     "name": "stdout",
     "output_type": "stream",
     "text": [
      "8668\n"
     ]
    }
   ],
   "source": [
    "from sklearn.model_selection import train_test_split\n",
    "\n",
    "sample = encoded_df.sample(frac=0.1, random_state=1)\n",
    "\n",
    "X = sample.drop('is_canceled', axis = 1)\n",
    "y = sample['is_canceled']\n",
    "\n",
    "print(len(X))\n",
    "# train test split \n",
    "X_train, X_test, y_train, y_test = train_test_split(X, y, test_size=0.3, random_state=42)"
   ]
  },
  {
   "cell_type": "markdown",
   "metadata": {},
   "source": [
    "#### Logistic Regression "
   ]
  },
  {
   "cell_type": "code",
   "execution_count": null,
   "metadata": {},
   "outputs": [
    {
     "name": "stdout",
     "output_type": "stream",
     "text": [
      "Accuracy: 0.7447135717031911\n",
      "Precision: 0.5357142857142857\n",
      "Recall: 0.11127596439169139\n",
      "F1 Score: 0.18427518427518427\n",
      "Confusion Matrix: \n",
      " [[1862   65]\n",
      " [ 599   75]]\n",
      "AUC:  0.538772388007989\n"
     ]
    },
    {
     "name": "stderr",
     "output_type": "stream",
     "text": [
      "c:\\Users\\ellio\\anaconda3\\lib\\site-packages\\sklearn\\linear_model\\_logistic.py:458: ConvergenceWarning: lbfgs failed to converge (status=1):\n",
      "STOP: TOTAL NO. of ITERATIONS REACHED LIMIT.\n",
      "\n",
      "Increase the number of iterations (max_iter) or scale the data as shown in:\n",
      "    https://scikit-learn.org/stable/modules/preprocessing.html\n",
      "Please also refer to the documentation for alternative solver options:\n",
      "    https://scikit-learn.org/stable/modules/linear_model.html#logistic-regression\n",
      "  n_iter_i = _check_optimize_result(\n"
     ]
    },
    {
     "data": {
      "image/png": "[encoded data removed]",
      "text/plain": [
       "<Figure size 640x400 with 1 Axes>"
      ]
     },
     "metadata": {
      "needs_background": "light"
     },
     "output_type": "display_data"
    }
   ],
   "source": [
    "from sklearn.linear_model import LogisticRegression\n",
    "from sklearn.metrics import r2_score\n",
    "from sklearn.metrics import accuracy_score\n",
    "\n",
    "# create a logistic regression model\n",
    "logreg = LogisticRegression()\n",
    "\n",
    "# fit the model to the data\n",
    "logreg.fit(X_train, y_train)\n",
    "\n",
    "# predict using logistic regression \n",
    "y_pred = logreg.predict(X_test)\n",
    "\n",
    "eval(y_test, y_pred)"
   ]
  },
  {
   "cell_type": "code",
   "execution_count": null,
   "metadata": {},
   "outputs": [],
   "source": [
    "# from sklearn.linear_model import LogisticRegressionCV\n",
    "# # Logistic regression: try lasso, ridge, elasticnet, backwards and forwards\n",
    "# # Add in cross validation later\n",
    "# lr_lasso = LogisticRegression(penalty='l1', solver = 'saga', max_iter = 10000)\n",
    "# lr_lasso.fit(X_train, y_train)\n",
    "\n"
   ]
  },
  {
   "cell_type": "markdown",
   "metadata": {},
   "source": [
    "#### SVC"
   ]
  },
  {
   "cell_type": "code",
   "execution_count": null,
   "metadata": {},
   "outputs": [],
   "source": [
    "# from sklearn.svm import SVC\n",
    "\n",
    "# # create a logistic regression model\n",
    "# svc = SVC()\n",
    "\n",
    "# # fit the model to the data\n",
    "# svc.fit(X_train, y_train)\n",
    "\n",
    "# # predict using logistic regression \n",
    "# y_pred = svc.predict(X_test)\n",
    "\n",
    "# r2 = r2_score(y_test, y_pred)\n",
    "# print('SVC R-squared score: ', r2)\n",
    "\n",
    "# accuracy = accuracy_score(y_test, y_pred)\n",
    "# print('SVC Accuracy: ', accuracy)\n",
    "\n"
   ]
  },
  {
   "attachments": {},
   "cell_type": "markdown",
   "metadata": {},
   "source": [
    "#### SVM"
   ]
  },
  {
   "cell_type": "code",
   "execution_count": null,
   "metadata": {},
   "outputs": [
    {
     "name": "stdout",
     "output_type": "stream",
     "text": [
      "Linear SVM Accuracy: 0.7431757016532103\n",
      "0.1\n",
      "Accuracy: 0.7431757016532103\n",
      "Precision: 0.6875\n",
      "Recall: 0.016320474777448073\n",
      "F1 Score: 0.0318840579710145\n",
      "Confusion Matrix: \n",
      " [[1922    5]\n",
      " [ 663   11]]\n",
      "AUC:  0.5068628839896582\n"
     ]
    },
    {
     "name": "stderr",
     "output_type": "stream",
     "text": [
      "c:\\Users\\ellio\\anaconda3\\lib\\site-packages\\sklearn\\svm\\_base.py:1244: ConvergenceWarning: Liblinear failed to converge, increase the number of iterations.\n",
      "  warnings.warn(\n"
     ]
    },
    {
     "data": {
      "image/png": "[encoded data removed]",
      "text/plain": [
       "<Figure size 640x400 with 1 Axes>"
      ]
     },
     "metadata": {
      "needs_background": "light"
     },
     "output_type": "display_data"
    },
    {
     "name": "stdout",
     "output_type": "stream",
     "text": [
      "Linear SVM Accuracy: 0.6916570549788543\n",
      "0.5\n",
      "Accuracy: 0.6916570549788543\n",
      "Precision: 0.38191881918819187\n",
      "Recall: 0.30712166172106825\n",
      "F1 Score: 0.3404605263157895\n",
      "Confusion Matrix: \n",
      " [[1592  335]\n",
      " [ 467  207]]\n",
      "AUC:  0.5666381531231184\n"
     ]
    },
    {
     "name": "stderr",
     "output_type": "stream",
     "text": [
      "c:\\Users\\ellio\\anaconda3\\lib\\site-packages\\sklearn\\svm\\_base.py:1244: ConvergenceWarning: Liblinear failed to converge, increase the number of iterations.\n",
      "  warnings.warn(\n"
     ]
    },
    {
     "data": {
      "image/png": "[encoded data removed]",
      "text/plain": [
       "<Figure size 640x400 with 1 Axes>"
      ]
     },
     "metadata": {
      "needs_background": "light"
     },
     "output_type": "display_data"
    },
    {
     "name": "stdout",
     "output_type": "stream",
     "text": [
      "Linear SVM Accuracy: 0.7400999615532488\n",
      "1\n",
      "Accuracy: 0.7400999615532488\n",
      "Precision: 0.4642857142857143\n",
      "Recall: 0.019287833827893175\n",
      "F1 Score: 0.037037037037037035\n",
      "Confusion Matrix: \n",
      " [[1912   15]\n",
      " [ 661   13]]\n",
      "AUC:  0.5057518567167489\n"
     ]
    },
    {
     "name": "stderr",
     "output_type": "stream",
     "text": [
      "c:\\Users\\ellio\\anaconda3\\lib\\site-packages\\sklearn\\svm\\_base.py:1244: ConvergenceWarning: Liblinear failed to converge, increase the number of iterations.\n",
      "  warnings.warn(\n"
     ]
    },
    {
     "data": {
      "image/png": "[encoded data removed]",
      "text/plain": [
       "<Figure size 640x400 with 1 Axes>"
      ]
     },
     "metadata": {
      "needs_background": "light"
     },
     "output_type": "display_data"
    },
    {
     "name": "stdout",
     "output_type": "stream",
     "text": [
      "Linear SVM Accuracy: 0.7435601691657054\n",
      "5\n",
      "Accuracy: 0.7435601691657054\n",
      "Precision: 1.0\n",
      "Recall: 0.010385756676557863\n",
      "F1 Score: 0.02055800293685756\n",
      "Confusion Matrix: \n",
      " [[1927    0]\n",
      " [ 667    7]]\n",
      "AUC:  0.505192878338279\n"
     ]
    },
    {
     "name": "stderr",
     "output_type": "stream",
     "text": [
      "c:\\Users\\ellio\\anaconda3\\lib\\site-packages\\sklearn\\svm\\_base.py:1244: ConvergenceWarning: Liblinear failed to converge, increase the number of iterations.\n",
      "  warnings.warn(\n"
     ]
    },
    {
     "data": {
      "image/png": "[encoded data removed]",
      "text/plain": [
       "<Figure size 640x400 with 1 Axes>"
      ]
     },
     "metadata": {
      "needs_background": "light"
     },
     "output_type": "display_data"
    },
    {
     "name": "stdout",
     "output_type": "stream",
     "text": [
      "Linear SVM Accuracy: 0.7427912341407151\n",
      "10\n",
      "Accuracy: 0.7427912341407151\n",
      "Precision: 0.5454545454545454\n",
      "Recall: 0.04451038575667656\n",
      "F1 Score: 0.0823045267489712\n",
      "Confusion Matrix: \n",
      " [[1902   25]\n",
      " [ 644   30]]\n",
      "AUC:  0.5157684258830089\n"
     ]
    },
    {
     "name": "stderr",
     "output_type": "stream",
     "text": [
      "c:\\Users\\ellio\\anaconda3\\lib\\site-packages\\sklearn\\svm\\_base.py:1244: ConvergenceWarning: Liblinear failed to converge, increase the number of iterations.\n",
      "  warnings.warn(\n"
     ]
    },
    {
     "data": {
      "image/png": "[encoded data removed]",
      "text/plain": [
       "<Figure size 640x400 with 1 Axes>"
      ]
     },
     "metadata": {
      "needs_background": "light"
     },
     "output_type": "display_data"
    }
   ],
   "source": [
    "from sklearn.svm import SVC, LinearSVC\n",
    "\n",
    "for C in [0.1,0.5,1,5,10]:\n",
    "    clf = LinearSVC(C=C)\n",
    "\n",
    "    clf.fit(X_train, y_train)\n",
    "\n",
    "    y_pred = clf.predict(X_test)\n",
    "\n",
    "    accuracy = accuracy_score(y_test, y_pred)\n",
    "    print(\"Linear SVM Accuracy:\", accuracy)\n",
    "\n",
    "    print(C)\n",
    "    eval(y_test, y_pred)\n",
    "\n",
    "# clf = SVC(kernel='poly')\n",
    "\n",
    "# clf.fit(X_train, y_train)\n",
    "\n",
    "# y_pred = clf.predict(X_test)\n",
    "\n",
    "# accuracy = accuracy_score(y_test, y_pred)\n",
    "# print(\"Polynommial Accuracy:\", accuracy)\n",
    "\n",
    "# clf = SVC(kernel='rbf')\n",
    "\n",
    "# clf.fit(X_train, y_train)\n",
    "\n",
    "# y_pred = clf.predict(X_test)\n",
    "\n",
    "# accuracy = accuracy_score(y_test, y_pred)\n",
    "# print(\"RBF Accuracy:\", accuracy)\n",
    "\n",
    "# clf = SVC(kernel='sigmoid')\n",
    "\n",
    "# clf.fit(X_train, y_train)\n",
    "\n",
    "# y_pred = clf.predict(X_test)\n",
    "\n",
    "# accuracy = accuracy_score(y_test, y_pred)\n",
    "# print(\"Sigmoid Accuracy:\", accuracy)"
   ]
  },
  {
   "attachments": {},
   "cell_type": "markdown",
   "metadata": {},
   "source": [
    "#### Random Forest"
   ]
  },
  {
   "cell_type": "code",
   "execution_count": null,
   "metadata": {},
   "outputs": [
    {
     "data": {
      "image/png": "[encoded data removed]",
      "text/plain": [
       "<Figure size 640x400 with 1 Axes>"
      ]
     },
     "metadata": {
      "needs_background": "light"
     },
     "output_type": "display_data"
    },
    {
     "name": "stdout",
     "output_type": "stream",
     "text": [
      "Accuracy: 0.8404459823144944\n",
      "Precision: 0.7476099426386233\n",
      "Recall: 0.5801186943620178\n",
      "F1 Score: 0.6532999164578112\n",
      "Confusion Matrix: \n",
      " [[1795  132]\n",
      " [ 283  391]]\n",
      "AUC:  0.755809217445669\n"
     ]
    },
    {
     "data": {
      "image/png": "[encoded data removed]",
      "text/plain": [
       "<Figure size 640x400 with 1 Axes>"
      ]
     },
     "metadata": {
      "needs_background": "light"
     },
     "output_type": "display_data"
    }
   ],
   "source": [
    "from sklearn.ensemble import RandomForestClassifier\n",
    "\n",
    "# Create random forest classifier object\n",
    "# increasing n_estimators to 500 increases runtime withoug meaningfully increasing AUC\n",
    "# oob_score does not improve model\n",
    "rf = RandomForestClassifier(n_estimators=100)\n",
    "\n",
    "# Train the classifier on the training data\n",
    "rf.fit(X_train, y_train)\n",
    "\n",
    "# Make predictions on the testing data\n",
    "y_pred = rf.predict(X_test)\n",
    "\n",
    "# Code from scikit learn documentation\n",
    "# https://scikit-learn.org/stable/auto_examples/ensemble/plot_forest_importances.html\n",
    "importances = rf.feature_importances_\n",
    "std = np.std([tree.feature_importances_ for tree in rf.estimators_], axis=0)\n",
    "forest_importances = pd.Series(importances, index=X_train.columns)\n",
    "\n",
    "fig, ax = plt.subplots()\n",
    "forest_importances.plot.bar(yerr=std, ax=ax)\n",
    "ax.set_title(\"Feature importances using MDI\")\n",
    "ax.set_ylabel(\"Mean decrease in impurity\")\n",
    "fig.tight_layout()\n",
    "plt.show()\n",
    "\n",
    "\n",
    "eval(y_test, y_pred)\n"
   ]
  },
  {
   "cell_type": "code",
   "execution_count": null,
   "metadata": {},
   "outputs": [
    {
     "name": "stdout",
     "output_type": "stream",
     "text": [
      "{'max_depth': None, 'max_features': 'sqrt', 'min_samples_leaf': 1, 'min_samples_split': 5, 'n_estimators': 100}\n",
      "0.8242943347127698\n"
     ]
    }
   ],
   "source": [
    "# Finding the best parameters for Random Forest classification\n",
    "\n",
    "from sklearn.model_selection import GridSearchCV\n",
    "\n",
    "parameters = {\n",
    "    'n_estimators': [10, 25, 50, 100, 200],\n",
    "    'max_depth': [5, 10, None],\n",
    "    'max_features': ['sqrt', 'log2'],\n",
    "    'min_samples_split': [2, 5, 10],\n",
    "    'min_samples_leaf': [1, 2, 4]\n",
    "}\n",
    "\n",
    "rf = RandomForestClassifier()\n",
    "grid_search = GridSearchCV(estimator=rf, param_grid=parameters, cv=5)\n",
    "\n",
    "# Fit the grid search object to the data\n",
    "grid_search.fit(X_train, y_train)\n",
    "\n",
    "# Print the best parameters and score\n",
    "print(grid_search.best_params_)\n",
    "print(grid_search.best_score_)"
   ]
  },
  {
   "cell_type": "code",
   "execution_count": null,
   "metadata": {},
   "outputs": [
    {
     "name": "stdout",
     "output_type": "stream",
     "text": [
      "Confusion Matrix: \n",
      " [[1793  134]\n",
      " [ 277  397]]\n",
      "AUC:  0.7597413146617102\n"
     ]
    },
    {
     "data": {
      "image/png": "[encoded data removed]",
      "text/plain": [
       "<Figure size 432x288 with 1 Axes>"
      ]
     },
     "metadata": {
      "needs_background": "light"
     },
     "output_type": "display_data"
    }
   ],
   "source": [
    "# Using the optimal parameters\n",
    "\n",
    "rf = RandomForestClassifier(max_depth=None,max_features='sqrt',min_samples_leaf=1, min_samples_split=5, n_estimators=100)\n",
    "rf.fit(X_train,y_train)\n",
    "\n",
    "y_pred = rf.predict(X_test)\n",
    "\n",
    "eval(y_test,y_pred)"
   ]
  },
  {
   "attachments": {},
   "cell_type": "markdown",
   "metadata": {},
   "source": [
    "\n",
    "### Neural Nets"
   ]
  },
  {
   "cell_type": "code",
   "execution_count": null,
   "metadata": {},
   "outputs": [],
   "source": [
    "from sklearn.neural_network import MLPClassifier\n",
    "from sklearn.preprocessing import StandardScaler\n",
    "\n",
    "scaler = StandardScaler()\n",
    "X_train = scaler.fit_transform(X_train)\n",
    "X_test = scaler.transform(X_test)\n"
   ]
  },
  {
   "cell_type": "code",
   "execution_count": null,
   "metadata": {},
   "outputs": [
    {
     "ename": "TypeError",
     "evalue": "exceptions must derive from BaseException",
     "output_type": "error",
     "traceback": [
      "\u001b[1;31m---------------------------------------------------------------------------\u001b[0m",
      "\u001b[1;31mTypeError\u001b[0m                                 Traceback (most recent call last)",
      "\u001b[1;32mc:\\Users\\ellio\\Documents\\Masters\\ML\\MachineLearningProj2\\project2.ipynb Cell 47\u001b[0m in \u001b[0;36m<cell line: 1>\u001b[1;34m()\u001b[0m\n\u001b[1;32m----> <a href='vscode-notebook-cell:/c%3A/Users/ellio/Documents/Masters/ML/MachineLearningProj2/project2.ipynb#X62sZmlsZQ%3D%3D?line=0'>1</a>\u001b[0m \u001b[39mraise\u001b[39;00m \u001b[39m'\u001b[39m\u001b[39mSTOP HERE TO SAVE LAPTOP\u001b[39m\u001b[39m'\u001b[39m\n",
      "\u001b[1;31mTypeError\u001b[0m: exceptions must derive from BaseException"
     ]
    }
   ],
   "source": [
    "raise 'STOP HERE TO SAVE LAPTOP'"
   ]
  },
  {
   "cell_type": "code",
   "execution_count": null,
   "metadata": {},
   "outputs": [
    {
     "name": "stderr",
     "output_type": "stream",
     "text": [
      "c:\\Users\\ellio\\anaconda3\\lib\\site-packages\\sklearn\\neural_network\\_multilayer_perceptron.py:691: UserWarning: Training interrupted by user.\n",
      "  warnings.warn(\"Training interrupted by user.\")\n",
      "c:\\Users\\ellio\\anaconda3\\lib\\site-packages\\sklearn\\neural_network\\_multilayer_perceptron.py:684: ConvergenceWarning: Stochastic Optimizer: Maximum iterations (443) reached and the optimization hasn't converged yet.\n",
      "  warnings.warn(\n",
      "c:\\Users\\ellio\\anaconda3\\lib\\site-packages\\sklearn\\neural_network\\_multilayer_perceptron.py:691: UserWarning: Training interrupted by user.\n",
      "  warnings.warn(\"Training interrupted by user.\")\n",
      "c:\\Users\\ellio\\anaconda3\\lib\\site-packages\\sklearn\\neural_network\\_multilayer_perceptron.py:684: ConvergenceWarning: Stochastic Optimizer: Maximum iterations (443) reached and the optimization hasn't converged yet.\n",
      "  warnings.warn(\n",
      "c:\\Users\\ellio\\anaconda3\\lib\\site-packages\\sklearn\\neural_network\\_multilayer_perceptron.py:684: ConvergenceWarning: Stochastic Optimizer: Maximum iterations (443) reached and the optimization hasn't converged yet.\n",
      "  warnings.warn(\n"
     ]
    }
   ],
   "source": [
    "from sklearn.model_selection import RandomizedSearchCV\n",
    "from scipy.stats import randint\n",
    "\n",
    "param_dist = {\n",
    "    'hidden_layer_sizes': [(10,), (20,), (30,), (10, 10), (20, 20), (30, 30)],\n",
    "    'activation': ['relu', 'logistic', 'tanh'],\n",
    "    'solver': ['adam', 'sgd', 'lbfgs'],\n",
    "    'learning_rate': ['constant', 'invscaling', 'adaptive'],\n",
    "    'alpha': randint(1, 100),\n",
    "    'max_iter': randint(100, 1000)\n",
    "}\n",
    "\n",
    "random_search = RandomizedSearchCV(\n",
    "    MLPClassifier(),\n",
    "    param_distributions=param_dist,\n",
    "    n_iter=50,\n",
    "    cv=5,\n",
    "    random_state=42\n",
    ")\n",
    "\n",
    "random_search.fit(X_train, y_train)\n",
    "\n",
    "print(\"Best parameters: \", random_search.best_params_)\n",
    "print(\"Best score: \", random_search.best_score_)"
   ]
  },
  {
   "cell_type": "code",
   "execution_count": null,
   "metadata": {},
   "outputs": [
    {
     "name": "stdout",
     "output_type": "stream",
     "text": [
      "Accuracy: 0.803921568627451\n",
      "Precision: 0.5385756676557863\n",
      "Recall: 0.6459074733096085\n",
      "F1 Score: 0.587378640776699\n",
      "Confusion Matrix: \n",
      " [[1728  311]\n",
      " [ 199  363]]\n",
      "AUC:  0.7466908626969819\n"
     ]
    },
    {
     "name": "stderr",
     "output_type": "stream",
     "text": [
      "C:\\Users\\Will\\AppData\\Local\\Packages\\PythonSoftwareFoundation.Python.3.10_qbz5n2kfra8p0\\LocalCache\\local-packages\\Python310\\site-packages\\sklearn\\neural_network\\_multilayer_perceptron.py:541: ConvergenceWarning: lbfgs failed to converge (status=1):\n",
      "STOP: TOTAL NO. of ITERATIONS REACHED LIMIT.\n",
      "\n",
      "Increase the number of iterations (max_iter) or scale the data as shown in:\n",
      "    https://scikit-learn.org/stable/modules/preprocessing.html\n",
      "  self.n_iter_ = _check_optimize_result(\"lbfgs\", opt_res, self.max_iter)\n"
     ]
    },
    {
     "data": {
      "image/png": "[encoded data removed]",
      "text/plain": [
       "<Figure size 640x400 with 1 Axes>"
      ]
     },
     "metadata": {},
     "output_type": "display_data"
    }
   ],
   "source": [
    "mlp = MLPClassifier(hidden_layer_sizes=(30,), activation = 'relu', alpha = 8, learning_rate = 'adaptive', solver = 'lbfgs', max_iter=1000)\n",
    "\n",
    "mlp.fit(X_train,y_train)\n",
    "\n",
    "y_pred = mlp.predict(X_test)\n",
    "\n",
    "eval(y_pred, y_test)\n"
   ]
  },
  {
   "attachments": {},
   "cell_type": "markdown",
   "metadata": {},
   "source": [
    "---\n",
    "## 4. Discussion & Conclusions\n"
   ]
  },
  {
   "cell_type": "markdown",
   "metadata": {},
   "source": [
    "*In this section you should provide a general overview of **your final model**, its **performance**, and **reliability**.* \n",
    "\n",
    "Your report must include the following:\n",
    "\n",
    "* Some discussion of the features that are most important for predicting a cancelation - we do not need discussion of specific coefficient values but direction of the effect should be clear (e.g. the earlier a booking is made the more likely it is to be canceled).\n",
    "\n",
    "* A validated assessment of your model's performance, but this must be specifically discussed in the context of bookings and running a hotel. \n",
    "\n",
    "* It is not sufficient to report summary statistics like the accuracy or AUC - you must address the perfomance in terms of potential gains and losses for the hotel (e.g. think about what happens if your model predicts a cancelation that does not actually occur and a room ends up being double booked or vice versa). \n",
    "\n",
    "* Explain why you think your particular model would or would not be economically viable."
   ]
  },
  {
   "cell_type": "markdown",
   "metadata": {},
   "source": [
    "## 5. References\n",
    "\n",
    "*In this section, you should present a list of external sources (except the course materials) that you used during the project, if any*\n",
    "\n",
    "- Additional data sources can be cited here, in addition to related python documentations, any other webpage sources that you benefited from"
   ]
  }
 ],
 "metadata": {
  "kernelspec": {
   "display_name": "Python 3 (ipykernel)",
   "language": "python",
   "name": "python3"
  },
  "language_info": {
   "codemirror_mode": {
    "name": "ipython",
    "version": 3
   },
   "file_extension": ".py",
   "mimetype": "text/x-python",
   "name": "python",
   "nbconvert_exporter": "python",
   "pygments_lexer": "ipython3",
   "version": "3.9.12"
  }
 },
 "nbformat": 4,
 "nbformat_minor": 4
}
